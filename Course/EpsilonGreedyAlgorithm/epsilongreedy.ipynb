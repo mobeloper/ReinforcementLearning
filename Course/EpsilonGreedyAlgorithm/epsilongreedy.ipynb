{
 "cells": [
  {
   "cell_type": "code",
   "execution_count": 1,
   "id": "0588b13b",
   "metadata": {},
   "outputs": [],
   "source": [
    "import gymnasium as gym\n",
    "\n",
    "#Create and load a simulation environment\n",
    "env = gym.make(\"CartPole-v1\", render_mode=\"human\")"
   ]
  },
  {
   "cell_type": "code",
   "execution_count": null,
   "id": "d9d0bf20",
   "metadata": {},
   "outputs": [],
   "source": [
    "import numpy as np\n",
    "import random\n",
    "\n",
    "def epsilonGreedy(currentState, epsilon):\n",
    "    listActions=[0,1]\n",
    "   \n",
    "    poleAngle=currentState\n",
    "    \n",
    "    p = np.random.randn()\n",
    "    \n",
    "    if p < epsilon:\n",
    "        #Exploration Strategy\n",
    "        action = random.choice(listActions)\n",
    "        \n",
    "    else:\n",
    "        #Exploitation Strategy\n",
    "        if poleAngle < 0:\n",
    "            action = 0\n",
    "        else:\n",
    "            action = 1\n",
    "            \n",
    "    return action\n",
    "\n",
    "\n"
   ]
  },
  {
   "cell_type": "code",
   "execution_count": null,
   "id": "44c09b7a",
   "metadata": {},
   "outputs": [
    {
     "name": "stdout",
     "output_type": "stream",
     "text": [
      "Episode Step 0 Given Action 0 I got reward 1.0 and next state [-0.00693693 -0.23810312  0.03305142  0.3295873 ]\n",
      "Episode Step 1 Given Action 1 I got reward 1.0 and next state [-0.01169899 -0.04346688  0.03964316  0.04750773]\n",
      "Episode Step 2 Given Action 1 I got reward 1.0 and next state [-0.01256833  0.15106486  0.04059332 -0.23240857]\n",
      "Episode Step 3 Given Action 1 I got reward 1.0 and next state [-0.00954703  0.34558398  0.03594515 -0.5120157 ]\n",
      "Episode Step 4 Given Action 1 I got reward 1.0 and next state [-0.00263535  0.54018164  0.02570483 -0.7931581 ]\n",
      "Episode Step 5 Given Action 1 I got reward 1.0 and next state [ 0.00816828  0.7349415   0.00984167 -1.077645  ]\n",
      "Episode Step 6 Given Action 1 I got reward 1.0 and next state [ 0.02286711  0.92993206 -0.01171123 -1.3672233 ]\n",
      "Episode Step 7 Given Action 0 I got reward 1.0 and next state [ 0.04146575  0.73495865 -0.03905569 -1.0782262 ]\n",
      "Episode Step 8 Given Action 0 I got reward 1.0 and next state [ 0.05616493  0.5403737  -0.06062022 -0.79805076]\n",
      "Episode Step 9 Given Action 1 I got reward 1.0 and next state [ 0.0669724   0.73627263 -0.07658123 -1.1091709 ]\n"
     ]
    },
    {
     "ename": "",
     "evalue": "",
     "output_type": "error",
     "traceback": [
      "\u001b[1;31mThe Kernel crashed while executing code in the current cell or a previous cell. \n",
      "\u001b[1;31mPlease review the code in the cell(s) to identify a possible cause of the failure. \n",
      "\u001b[1;31mClick <a href='https://aka.ms/vscodeJupyterKernelCrash'>here</a> for more info. \n",
      "\u001b[1;31mView Jupyter <a href='command:jupyter.viewOutput'>log</a> for further details."
     ]
    }
   ],
   "source": [
    "\n",
    "#initialize the state\n",
    "observation,info = env.reset()\n",
    "\n",
    "EPSILON = 0.1\n",
    "\n",
    "for episodeStep in range(10):\n",
    "    \n",
    "    #Choose the action\n",
    "    \n",
    "    #Select the pole angle from the observation\n",
    "    action = epsilonGreedy(observation[2], EPSILON)\n",
    "\n",
    "    #Supply action to the env\n",
    "    newState,reward,isTerminated,isTruncated,info = env.step(action)\n",
    "\n",
    "    #Print info\n",
    "    print(f\"Episode Step {episodeStep} Given Action {action} I got reward {reward} and next state {newState}\")\n",
    "\n",
    "    #Check for Termination\n",
    "    if isTerminated:\n",
    "        print(\"GAME OVER --- Terminated!!!\")\n",
    "        env.close()\n",
    "        break\n",
    "\n",
    "#Check for Truncation(Episode ended)\n",
    "if isTruncated:\n",
    "    print(\"Episode Over. Total Allowed Steps Done. Agent was able to balance pole successfully :)\")\n",
    "\n",
    "env.close()\n",
    "\n"
   ]
  },
  {
   "cell_type": "code",
   "execution_count": null,
   "id": "01c4bdcd",
   "metadata": {},
   "outputs": [],
   "source": []
  }
 ],
 "metadata": {
  "kernelspec": {
   "display_name": "Python 3",
   "language": "python",
   "name": "python3"
  },
  "language_info": {
   "codemirror_mode": {
    "name": "ipython",
    "version": 3
   },
   "file_extension": ".py",
   "mimetype": "text/x-python",
   "name": "python",
   "nbconvert_exporter": "python",
   "pygments_lexer": "ipython3",
   "version": "3.12.11"
  }
 },
 "nbformat": 4,
 "nbformat_minor": 5
}
