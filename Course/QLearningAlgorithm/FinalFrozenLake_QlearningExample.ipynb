{
 "cells": [
  {
   "cell_type": "code",
   "execution_count": 1,
   "id": "09a2862a",
   "metadata": {
    "ExecuteTime": {
     "end_time": "2025-07-17T23:59:54.133732Z",
     "start_time": "2025-07-17T23:59:52.900086Z"
    }
   },
   "outputs": [],
   "source": [
    "import gymnasium as gym\n",
    "import pandas as pd\n",
    "import numpy as np\n",
    "import random\n",
    "import time\n",
    "from IPython.display import clear_output"
   ]
  },
  {
   "cell_type": "code",
   "execution_count": 2,
   "id": "9ca94653059bba46",
   "metadata": {
    "ExecuteTime": {
     "end_time": "2025-07-17T23:59:54.460851Z",
     "start_time": "2025-07-17T23:59:54.451661Z"
    }
   },
   "outputs": [],
   "source": [
    "# Create FrozenLake with human rendering (non-slippery)\n",
    "env = gym.make(\"FrozenLake-v1\", is_slippery=True, render_mode=\"ansi\", map_name=\"4x4\")\n",
    "#env = gym.make(\"FrozenLake-v1\", is_slippery=False, render_mode=\"human\", map_name=\"4x4\")"
   ]
  },
  {
   "cell_type": "code",
   "execution_count": 3,
   "id": "7da30ec23e373533",
   "metadata": {
    "ExecuteTime": {
     "end_time": "2025-07-17T23:59:54.491294Z",
     "start_time": "2025-07-17T23:59:54.483045Z"
    }
   },
   "outputs": [],
   "source": [
    "# Hyperparameters\n",
    "THETA = 1e-8            # Convergence threshold\n",
    "N_STATES = 16   # the length of the 4 dimensional world\n",
    "ACTIONS = ['up', 'down', 'left', 'right']     # available actions\n",
    "EPSILON = 0.9   # greedy policy\n",
    "ALPHA = 0.1     # learning rate\n",
    "GAMMA = 0.9    # discount factor\n",
    "MAX_EPISODES = 50   # maximum episodes\n",
    "FRESH_TIME = 0.3    # refresh/pause time for one move used in time.sleep\n",
    "num_episodes = 10000\n",
    "max_steps_per_episode = 100\n",
    "learning_rate = 0.1\n",
    "discount_rate = 0.99\n",
    "epsilon = 0.2"
   ]
  },
  {
   "cell_type": "markdown",
   "id": "f6ba24fcfcc738fa",
   "metadata": {},
   "source": [
    "Using Q Learning"
   ]
  },
  {
   "cell_type": "code",
   "execution_count": 4,
   "id": "dc3e20e5ffba22b7",
   "metadata": {
    "ExecuteTime": {
     "end_time": "2025-07-17T23:59:54.551088Z",
     "start_time": "2025-07-17T23:59:54.532091Z"
    }
   },
   "outputs": [
    {
     "name": "stdout",
     "output_type": "stream",
     "text": [
      "[[0. 0. 0. 0.]\n",
      " [0. 0. 0. 0.]\n",
      " [0. 0. 0. 0.]\n",
      " [0. 0. 0. 0.]\n",
      " [0. 0. 0. 0.]\n",
      " [0. 0. 0. 0.]\n",
      " [0. 0. 0. 0.]\n",
      " [0. 0. 0. 0.]\n",
      " [0. 0. 0. 0.]\n",
      " [0. 0. 0. 0.]\n",
      " [0. 0. 0. 0.]\n",
      " [0. 0. 0. 0.]\n",
      " [0. 0. 0. 0.]\n",
      " [0. 0. 0. 0.]\n",
      " [0. 0. 0. 0.]\n",
      " [0. 0. 0. 0.]]\n"
     ]
    }
   ],
   "source": [
    "action_space_size = env.action_space.n\n",
    "state_space_size = env.observation_space.n\n",
    "\n",
    "q_table = np.zeros((state_space_size, action_space_size))\n",
    "print(q_table)"
   ]
  },
  {
   "cell_type": "code",
   "execution_count": 5,
   "id": "9fff37af4eef5bcb",
   "metadata": {
    "ExecuteTime": {
     "end_time": "2025-07-17T23:59:58.759818Z",
     "start_time": "2025-07-17T23:59:54.623163Z"
    }
   },
   "outputs": [
    {
     "name": "stdout",
     "output_type": "stream",
     "text": [
      "\n",
      "\n",
      "********Q-table********\n",
      "\n",
      "[[0.56158702 0.54039618 0.54875347 0.5320196 ]\n",
      " [0.42597189 0.33800784 0.30264525 0.51533354]\n",
      " [0.45234214 0.43637341 0.43324064 0.46686914]\n",
      " [0.32572237 0.30345231 0.19633274 0.44792198]\n",
      " [0.58695087 0.39937495 0.40472511 0.44515438]\n",
      " [0.         0.         0.         0.        ]\n",
      " [0.36495413 0.16749159 0.2899012  0.03966152]\n",
      " [0.         0.         0.         0.        ]\n",
      " [0.21154067 0.40289163 0.25186766 0.61547727]\n",
      " [0.48661555 0.6898726  0.45925472 0.38634512]\n",
      " [0.61291206 0.47149277 0.3548813  0.29258604]\n",
      " [0.         0.         0.         0.        ]\n",
      " [0.         0.         0.         0.        ]\n",
      " [0.4883374  0.55881689 0.76684467 0.47399651]\n",
      " [0.72340175 0.8608417  0.81567354 0.80430538]\n",
      " [0.         0.         0.         0.        ]]\n"
     ]
    }
   ],
   "source": [
    "for episode in range(num_episodes):\n",
    "    # Fix reset() usage\n",
    "    state, info = env.reset()\n",
    "    done = False\n",
    "\n",
    "    for step in range(max_steps_per_episode):\n",
    "        # Exploration-exploitation trade-off\n",
    "        exploration_rate_threshold = random.uniform(0, 1)\n",
    "        if exploration_rate_threshold > epsilon:\n",
    "            action = np.argmax(q_table[state,:])\n",
    "        else:\n",
    "            action = env.action_space.sample()\n",
    "\n",
    "        # Fix step() usage - handle all returned values\n",
    "        new_state, reward, terminated, truncated, info = env.step(action)\n",
    "        done = terminated or truncated  # done is now combination of terminated and truncated\n",
    "\n",
    "        # Update Q-table for Q(s,a)\n",
    "        q_table[state, action] = q_table[state, action] * (1 - learning_rate) + \\\n",
    "                                learning_rate * (reward + discount_rate * np.max(q_table[new_state, :]))\n",
    "\n",
    "        state = new_state\n",
    "\n",
    "        if done:\n",
    "            break\n",
    "\n",
    "# Print updated Q-table\n",
    "print(\"\\n\\n********Q-table********\\n\")\n",
    "print(q_table)\n",
    "env.close()"
   ]
  },
  {
   "cell_type": "code",
   "execution_count": 6,
   "id": "b46ed08e928bbbd3",
   "metadata": {
    "ExecuteTime": {
     "end_time": "2025-07-17T23:59:58.774316Z",
     "start_time": "2025-07-17T23:59:58.771349Z"
    }
   },
   "outputs": [],
   "source": [
    "env = gym.make(\"FrozenLake-v1\", is_slippery=True, render_mode=\"human\", map_name=\"4x4\")"
   ]
  },
  {
   "cell_type": "code",
   "execution_count": 7,
   "id": "839e696c0c7b5de",
   "metadata": {},
   "outputs": [
    {
     "name": "stdout",
     "output_type": "stream",
     "text": [
      "****You reached the goal!****\n"
     ]
    }
   ],
   "source": [
    "#Deploy Code\n",
    "actionLog = []\n",
    "for episode in range(1):\n",
    "    state, info = env.reset()  # Fix: Unpack both state and info\n",
    "    done = False\n",
    "    print(\"*****EPISODE \", episode+1, \"*****\\n\\n\\n\\n\")\n",
    "    time.sleep(1)\n",
    "\n",
    "    for step in range(max_steps_per_episode):\n",
    "        clear_output(wait=True)\n",
    "        env.render()\n",
    "        time.sleep(0.3)\n",
    "\n",
    "        action = np.argmax(q_table[state,:])\n",
    "        actionLog.append(action)\n",
    "        # Fix: Handle all five return values from step()\n",
    "        new_state, reward, terminated, truncated, info = env.step(action)\n",
    "        done = terminated or truncated  # Combine both terminal conditions\n",
    "\n",
    "        if done:\n",
    "            clear_output(wait=True)\n",
    "            env.render()\n",
    "            if reward == 1:\n",
    "                print(\"****You reached the goal!****\")\n",
    "                time.sleep(3)\n",
    "            else:\n",
    "                print(\"****You fell through a hole!****\")\n",
    "                time.sleep(3)\n",
    "            clear_output(wait=True)\n",
    "            break\n",
    "\n",
    "        state = new_state\n",
    "\n",
    "env.close()"
   ]
  },
  {
   "cell_type": "code",
   "execution_count": 8,
   "id": "db532799eabff46",
   "metadata": {
    "ExecuteTime": {
     "end_time": "2025-07-18T00:00:07.969933Z",
     "start_time": "2025-07-18T00:00:07.960837Z"
    }
   },
   "outputs": [
    {
     "data": {
      "text/plain": [
       "25"
      ]
     },
     "execution_count": 8,
     "metadata": {},
     "output_type": "execute_result"
    }
   ],
   "source": [
    "len(actionLog)"
   ]
  }
 ],
 "metadata": {
  "kernelspec": {
   "display_name": "Python 3",
   "language": "python",
   "name": "python3"
  },
  "language_info": {
   "codemirror_mode": {
    "name": "ipython",
    "version": 3
   },
   "file_extension": ".py",
   "mimetype": "text/x-python",
   "name": "python",
   "nbconvert_exporter": "python",
   "pygments_lexer": "ipython3",
   "version": "3.12.11"
  }
 },
 "nbformat": 4,
 "nbformat_minor": 5
}
