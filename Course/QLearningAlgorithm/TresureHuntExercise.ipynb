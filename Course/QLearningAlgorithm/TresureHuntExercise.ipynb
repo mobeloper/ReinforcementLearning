{
  "cells": [
    {
      "cell_type": "code",
      "execution_count": 2,
      "metadata": {},
      "outputs": [
        {
          "name": "stdout",
          "output_type": "stream",
          "text": [
            "Collecting pandas\n",
            "  Downloading pandas-2.3.1-cp312-cp312-macosx_10_13_x86_64.whl.metadata (91 kB)\n",
            "Requirement already satisfied: numpy>=1.26.0 in /Users/oysterable/delete/ReinforcementLearning/rlvenv/lib/python3.12/site-packages (from pandas) (2.3.1)\n",
            "Requirement already satisfied: python-dateutil>=2.8.2 in /Users/oysterable/delete/ReinforcementLearning/rlvenv/lib/python3.12/site-packages (from pandas) (2.9.0.post0)\n",
            "Collecting pytz>=2020.1 (from pandas)\n",
            "  Using cached pytz-2025.2-py2.py3-none-any.whl.metadata (22 kB)\n",
            "Collecting tzdata>=2022.7 (from pandas)\n",
            "  Using cached tzdata-2025.2-py2.py3-none-any.whl.metadata (1.4 kB)\n",
            "Requirement already satisfied: six>=1.5 in /Users/oysterable/delete/ReinforcementLearning/rlvenv/lib/python3.12/site-packages (from python-dateutil>=2.8.2->pandas) (1.17.0)\n",
            "Downloading pandas-2.3.1-cp312-cp312-macosx_10_13_x86_64.whl (11.6 MB)\n",
            "\u001b[2K   \u001b[90m━━━━━━━━━━━━━━━━━━━━━━━━━━━━━━━━━━━━━━━━\u001b[0m \u001b[32m11.6/11.6 MB\u001b[0m \u001b[31m15.4 MB/s\u001b[0m eta \u001b[36m0:00:00\u001b[0ma \u001b[36m0:00:01\u001b[0m\n",
            "\u001b[?25hUsing cached pytz-2025.2-py2.py3-none-any.whl (509 kB)\n",
            "Using cached tzdata-2025.2-py2.py3-none-any.whl (347 kB)\n",
            "Installing collected packages: pytz, tzdata, pandas\n",
            "\u001b[2K   \u001b[90m━━━━━━━━━━━━━━━━━━━━━━━━━━━━━━━━━━━━━━━━\u001b[0m \u001b[32m3/3\u001b[0m [pandas]2m2/3\u001b[0m [pandas]\n",
            "\u001b[1A\u001b[2KSuccessfully installed pandas-2.3.1 pytz-2025.2 tzdata-2025.2\n"
          ]
        }
      ],
      "source": [
        "# !pip install pandas"
      ]
    },
    {
      "cell_type": "code",
      "execution_count": 3,
      "metadata": {
        "id": "ocuJ-hWqKtQc"
      },
      "outputs": [],
      "source": [
        "import numpy as np\n",
        "import pandas as pd\n",
        "import time\n",
        "\n",
        "np.random.seed(2)  # reproducible"
      ]
    },
    {
      "cell_type": "code",
      "execution_count": 4,
      "metadata": {
        "id": "SE0M6JUEKtQf"
      },
      "outputs": [],
      "source": [
        "N_STATES = 6   # the length of the 1 dimensional world\n",
        "ACTIONS = ['left', 'right']     # available actions\n",
        "\n",
        "EPSILON = 0.9   # greedy policy\n",
        "ALPHA = 0.1     # learning rate\n",
        "GAMMA = 0.9    # discount factor\n",
        "\n",
        "MAX_EPISODES = 13   # maximum episodes\n",
        "\n",
        "FRESH_TIME = 0.3    # refresh/pause time for one move used in time.sleep"
      ]
    },
    {
      "cell_type": "code",
      "execution_count": 5,
      "metadata": {
        "id": "t994CxrbKtQg"
      },
      "outputs": [],
      "source": [
        "def build_q_table(n_states, actions):\n",
        "    table = pd.DataFrame(\n",
        "        np.zeros((n_states, len(actions))),     # q_table initial values\n",
        "        columns=actions,    # actions's name\n",
        "    )\n",
        "    #print(table)    # show table\n",
        "    return table"
      ]
    },
    {
      "cell_type": "code",
      "execution_count": 6,
      "metadata": {
        "id": "4nKjPiGwKtQg"
      },
      "outputs": [],
      "source": [
        "def choose_action(state, q_table):\n",
        "    # This is how to choose an action\n",
        "    state_actions = q_table.iloc[state, :]\n",
        "\n",
        "    if (np.random.uniform() > EPSILON) or ((state_actions == 0).all()):  # act non-greedy or state-action have no value\n",
        "        action_name = np.random.choice(ACTIONS) #Exploration\n",
        "    else:   # act greedy\n",
        "        action_name = state_actions.idxmax()    # replace argmax to idxmax as argmax means a different function in newer version of pandas\n",
        "\n",
        "    return action_name"
      ]
    },
    {
      "cell_type": "code",
      "execution_count": 7,
      "metadata": {
        "id": "3-6I6weGKtQh"
      },
      "outputs": [],
      "source": [
        "#similar to env.step() ---> accepting state and action and returning reward and next state\n",
        "def get_env_feedback(S, A):\n",
        "    # This is how agent will interact with the environment\n",
        "    if A == 'right':    # move right\n",
        "        if S == N_STATES - 2:   # terminate\n",
        "            S_ = 'terminal'\n",
        "            R = 1\n",
        "        else:\n",
        "            S_ = S + 1\n",
        "            R = 0\n",
        "    else:   # move left\n",
        "        R = 0\n",
        "        if S == 0:\n",
        "            S_ = S  # reach the wall\n",
        "        else:\n",
        "            S_ = S - 1\n",
        "    return S_, R\n"
      ]
    },
    {
      "cell_type": "code",
      "execution_count": 8,
      "metadata": {
        "id": "x_2QdNUUKtQh"
      },
      "outputs": [],
      "source": [
        "def update_env(S, episode, step_counter):#env.render()\n",
        "    # This is how environment be updated\n",
        "    env_list = ['-']*(N_STATES-1) + ['T']   # '---------T' our environment\n",
        "    if S == 'terminal':\n",
        "        interaction = 'Episode %s: total_steps = %s' % (episode+1, step_counter)\n",
        "        print('\\r{}'.format(interaction), end='')\n",
        "        time.sleep(2)\n",
        "        print('\\r                                ', end='')\n",
        "    else:\n",
        "        env_list[S] = 'o'\n",
        "        interaction = ''.join(env_list)\n",
        "        print('\\r{}'.format(interaction), end='')\n",
        "        time.sleep(FRESH_TIME)"
      ]
    },
    {
      "cell_type": "code",
      "execution_count": 9,
      "metadata": {
        "id": "PCPpBGOlKtQi"
      },
      "outputs": [],
      "source": [
        "def rl():\n",
        "    # main part of RL loop\n",
        "    q_table = build_q_table(N_STATES, ACTIONS)\n",
        "    for episode in range(MAX_EPISODES):\n",
        "        step_counter = 0\n",
        "        S = 0\n",
        "        is_terminated = False\n",
        "        update_env(S, episode, step_counter)\n",
        "        while not is_terminated:\n",
        "\n",
        "            A = choose_action(S, q_table)\n",
        "            S_, R = get_env_feedback(S, A)  # take action & get next state and reward\n",
        "            q_predict = q_table.loc[S, A]\n",
        "            if S_ != 'terminal':\n",
        "                q_target = R + GAMMA * q_table.iloc[S_, :].max()   # next state is not terminal\n",
        "            else:\n",
        "                q_target = R     # next state is terminal\n",
        "                is_terminated = True    # terminate this episode\n",
        "\n",
        "            q_table.loc[S, A] += ALPHA * (q_target - q_predict)  # update\n",
        "            S = S_  # move to next state\n",
        "\n",
        "            update_env(S, episode, step_counter+1)\n",
        "            step_counter += 1\n",
        "    return q_table"
      ]
    },
    {
      "cell_type": "code",
      "execution_count": 10,
      "metadata": {
        "colab": {
          "base_uri": "https://localhost:8080/"
        },
        "id": "f8LwEQoKKtQj",
        "outputId": "2b9b3246-ae22-46c5-9baf-11537ec5c2aa"
      },
      "outputs": [
        {
          "name": "stdout",
          "output_type": "stream",
          "text": [
            "                                \n",
            "Q-table:\n",
            "\n",
            "       left     right\n",
            "0  0.000000  0.004320\n",
            "1  0.000000  0.025005\n",
            "2  0.000030  0.111241\n",
            "3  0.000000  0.368750\n",
            "4  0.027621  0.745813\n",
            "5  0.000000  0.000000\n"
          ]
        }
      ],
      "source": [
        "q_table = rl()\n",
        "print('\\r\\nQ-table:\\n')\n",
        "print(q_table)"
      ]
    },
    {
      "cell_type": "code",
      "execution_count": null,
      "metadata": {
        "id": "meUs-gVRYuR-"
      },
      "outputs": [],
      "source": [
        "#RL Deploy Code"
      ]
    }
  ],
  "metadata": {
    "colab": {
      "provenance": []
    },
    "kernelspec": {
      "display_name": "Python 3",
      "language": "python",
      "name": "python3"
    },
    "language_info": {
      "codemirror_mode": {
        "name": "ipython",
        "version": 3
      },
      "file_extension": ".py",
      "mimetype": "text/x-python",
      "name": "python",
      "nbconvert_exporter": "python",
      "pygments_lexer": "ipython3",
      "version": "3.12.11"
    }
  },
  "nbformat": 4,
  "nbformat_minor": 0
}
