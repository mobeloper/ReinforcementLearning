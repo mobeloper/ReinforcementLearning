{
  "cells": [
    {
      "cell_type": "code",
      "execution_count": 59,
      "metadata": {
        "id": "ocuJ-hWqKtQc"
      },
      "outputs": [],
      "source": [
        "import numpy as np\n",
        "import random\n",
        "import time\n",
        "from IPython.display import clear_output\n",
        "\n",
        "np.random.seed(2)  # reproducible"
      ]
    },
    {
      "cell_type": "code",
      "execution_count": 60,
      "metadata": {
        "id": "SE0M6JUEKtQf"
      },
      "outputs": [],
      "source": [
        "N_STATES = 4*4   # the size of the grid\n",
        "\n",
        "ACTIONS = ['left', 'down', 'right','up']     # available actions\n",
        "\n",
        "# 0: Move left\n",
        "# 1: Move down\n",
        "# 2: Move right\n",
        "# 3: Move up\n",
        "\n",
        "\n",
        "EPSILON = 0.9   # greedy policy\n",
        "ALPHA = 0.1     # learning rate\n",
        "GAMMA = 0.9    # discount factor\n",
        "\n",
        "MAX_EPISODES = 13   # maximum episodes\n",
        "\n",
        "FRESH_TIME = 0.3    # refresh/pause time for one move used in time.sleep"
      ]
    },
    {
      "cell_type": "code",
      "execution_count": 61,
      "metadata": {
        "id": "t994CxrbKtQg"
      },
      "outputs": [],
      "source": [
        "def build_q_table(n_states, actions):\n",
        "    table = pd.DataFrame(\n",
        "        np.zeros((n_states, len(actions))),     # q_table initial values\n",
        "        columns=actions,    # actions's name\n",
        "    )\n",
        "    #print(table)    # show table\n",
        "    return table"
      ]
    },
    {
      "cell_type": "code",
      "execution_count": 62,
      "metadata": {
        "id": "4nKjPiGwKtQg"
      },
      "outputs": [],
      "source": [
        "def choose_action(state, q_table):\n",
        "    # This is how to choose an action\n",
        "    state_actions = q_table.iloc[state, :]\n",
        "\n",
        "    if (np.random.uniform() > EPSILON) or ((state_actions == 0).all()):  # act non-greedy or state-action have no value\n",
        "        action_name = np.random.choice(ACTIONS)\n",
        "    else:   # act greedy\n",
        "        action_name = state_actions.idxmax()    # replace argmax to idxmax as argmax means a different function in newer version of pandas\n",
        "\n",
        "    return action_name"
      ]
    },
    {
      "cell_type": "code",
      "execution_count": 63,
      "metadata": {
        "id": "kP_P9I8_pwli"
      },
      "outputs": [],
      "source": [
        "#Exploitation Method\n",
        "def actionWithTrainedModel(state,q_table):\n",
        "  state_actions = q_table.iloc[state, :]\n",
        "  action_name = state_actions.idxmax()\n",
        "  return action_name"
      ]
    },
    {
      "cell_type": "code",
      "execution_count": 64,
      "metadata": {
        "id": "3-6I6weGKtQh"
      },
      "outputs": [],
      "source": [
        "# def get_env_feedback(S, A):\n",
        "#     # This is how agent will interact with the environment\n",
        "#     if A == 'right':    # move right\n",
        "#         if S == N_STATES - 2:   # terminate\n",
        "#             S_ = 'terminal'\n",
        "#             R = 1\n",
        "#         else:\n",
        "#             S_ = S + 1\n",
        "#             R = 0\n",
        "#     else:   # move left\n",
        "#         R = 0\n",
        "#         if S == 0:\n",
        "#             S_ = S  # reach the wall\n",
        "#         else:\n",
        "#             S_ = S - 1\n",
        "#     return S_, R\n"
      ]
    },
    {
      "cell_type": "code",
      "execution_count": 65,
      "metadata": {
        "id": "x_2QdNUUKtQh"
      },
      "outputs": [],
      "source": [
        "# def update_env(S, episode, step_counter):\n",
        "#     # This is how environment be updated\n",
        "#     env_list = ['-']*(N_STATES-1) + ['T']   # '---------T' our environment\n",
        "#     if S == 'terminal':\n",
        "#         interaction = 'Episode %s: total_steps = %s' % (episode+1, step_counter)\n",
        "#         print('\\r{}'.format(interaction), end='')\n",
        "#         time.sleep(2)\n",
        "#         print('\\r                                ', end='')\n",
        "#     else:\n",
        "#         env_list[S] = 'o'\n",
        "#         interaction = ''.join(env_list)\n",
        "#         print('\\r{}'.format(interaction), end='')\n",
        "#         time.sleep(FRESH_TIME)"
      ]
    },
    {
      "cell_type": "code",
      "execution_count": 66,
      "metadata": {},
      "outputs": [],
      "source": [
        "import gymnasium as gym\n",
        "from IPython.display import clear_output\n",
        "\n",
        "# Create FrozenLake with human rendering (non-slippery)\n",
        "env = gym.make(\"FrozenLake-v1\", is_slippery=False, render_mode=\"human\")"
      ]
    },
    {
      "cell_type": "code",
      "execution_count": 67,
      "metadata": {},
      "outputs": [
        {
          "name": "stdout",
          "output_type": "stream",
          "text": [
            "[[0. 0. 0. 0.]\n",
            " [0. 0. 0. 0.]\n",
            " [0. 0. 0. 0.]\n",
            " [0. 0. 0. 0.]\n",
            " [0. 0. 0. 0.]\n",
            " [0. 0. 0. 0.]\n",
            " [0. 0. 0. 0.]\n",
            " [0. 0. 0. 0.]\n",
            " [0. 0. 0. 0.]\n",
            " [0. 0. 0. 0.]\n",
            " [0. 0. 0. 0.]\n",
            " [0. 0. 0. 0.]\n",
            " [0. 0. 0. 0.]\n",
            " [0. 0. 0. 0.]\n",
            " [0. 0. 0. 0.]\n",
            " [0. 0. 0. 0.]]\n"
          ]
        }
      ],
      "source": [
        "# q_table = build_q_table(N_STATES, ACTIONS)\n",
        "# print(q_table)\n",
        "\n",
        "action_space_size = env.action_space.n\n",
        "state_space_size = env.observation_space.n\n",
        "\n",
        "q_table = np.zeros((state_space_size, action_space_size))\n",
        "print(q_table)\n",
        "\n"
      ]
    },
    {
      "cell_type": "code",
      "execution_count": 68,
      "metadata": {},
      "outputs": [],
      "source": [
        "num_episodes = 10000\n",
        "max_steps_per_episode = 100\n",
        "\n",
        "learning_rate = 0.1\n",
        "discount_rate = 0.99\n",
        "\n",
        "epsilon = 0.2\n"
      ]
    },
    {
      "cell_type": "code",
      "execution_count": 69,
      "metadata": {
        "id": "PCPpBGOlKtQi"
      },
      "outputs": [],
      "source": [
        "# def rl(env):\n",
        "#     # main part of RL loop\n",
        "#     q_table = build_q_table(N_STATES, ACTIONS)\n",
        "#     print(q_table)\n",
        "\n",
        "#     for episode in range(MAX_EPISODES):\n",
        "#         step_counter = 0\n",
        "#         # S = 0\n",
        "#         S, _ = env.reset()\n",
        "#         print(f\"\\nEpisode {episode + 1} started\")\n",
        "        \n",
        "#         terminated = False\n",
        "#         # update_env(S, episode, step_counter)\n",
        "#         while not terminated:\n",
        "#         # for step in range(max_steps):\n",
        "\n",
        "#             A = choose_action(S, q_table)\n",
        "#             # A = env.action_space.sample()  # Random action\n",
        "            \n",
        "#             # S_, R = get_env_feedback(S, A)  # take action & get next state and reward\n",
        "     \n",
        "#             S_, R, terminated, truncated, _ = env.step(A)            \n",
        "                \n",
        "            \n",
        "#             q_predict = q_table.loc[S, A]\n",
        "#             # if S_ != 'terminal':\n",
        "#             if S_ == 15:\n",
        "#                 q_target = R     # next state is terminal\n",
        "#                 terminated = True    # terminate this episode\n",
        "               \n",
        "#             else:\n",
        "#                 q_target = R + GAMMA * q_table.iloc[S_, :].max()   # next state is not terminal\n",
        "\n",
        "#             q_table.loc[S, A] += ALPHA * (q_target - q_predict)  # update\n",
        "#             S = S_  # move to next state\n",
        "\n",
        "#             # update_env(S, episode, step_counter+1)\n",
        "#             step_counter += 1\n",
        "#     return q_table"
      ]
    },
    {
      "cell_type": "code",
      "execution_count": null,
      "metadata": {},
      "outputs": [
        {
          "ename": "ValueError",
          "evalue": "too many values to unpack (expected 4)",
          "output_type": "error",
          "traceback": [
            "\u001b[31m---------------------------------------------------------------------------\u001b[39m",
            "\u001b[31mValueError\u001b[39m                                Traceback (most recent call last)",
            "\u001b[36mCell\u001b[39m\u001b[36m \u001b[39m\u001b[32mIn[70]\u001b[39m\u001b[32m, line 50\u001b[39m\n\u001b[32m     47\u001b[39m \u001b[38;5;28;01melse\u001b[39;00m:\n\u001b[32m     48\u001b[39m     action = env.action_space.sample()\n\u001b[32m---> \u001b[39m\u001b[32m50\u001b[39m new_state, reward, done, info = env.step(action)\n\u001b[32m     52\u001b[39m time.sleep(\u001b[32m0.3\u001b[39m)  \u001b[38;5;66;03m# Slow down for better visualization\u001b[39;00m\n\u001b[32m     54\u001b[39m \u001b[38;5;66;03m# Update Q-table for Q(s,a)\u001b[39;00m\n",
            "\u001b[31mValueError\u001b[39m: too many values to unpack (expected 4)"
          ]
        },
        {
          "ename": "",
          "evalue": "",
          "output_type": "error",
          "traceback": [
            "\u001b[1;31mThe Kernel crashed while executing code in the current cell or a previous cell. \n",
            "\u001b[1;31mPlease review the code in the cell(s) to identify a possible cause of the failure. \n",
            "\u001b[1;31mClick <a href='https://aka.ms/vscodeJupyterKernelCrash'>here</a> for more info. \n",
            "\u001b[1;31mView Jupyter <a href='command:jupyter.viewOutput'>log</a> for further details."
          ]
        }
      ],
      "source": [
        "# for episode in range(MAX_EPISODES):\n",
        "#     step_counter = 0\n",
        "#     # S = 0\n",
        "#     S, _ = env.reset()\n",
        "#     print(f\"\\nEpisode {episode + 1} started\")\n",
        "    \n",
        "#     terminated = False\n",
        "#     # update_env(S, episode, step_counter)\n",
        "#     while not terminated:\n",
        "#     # for step in range(max_steps):\n",
        "\n",
        "#         A = choose_action(S, q_table)\n",
        "#         # A = env.action_space.sample()  # Random action\n",
        "        \n",
        "#         # S_, R = get_env_feedback(S, A)  # take action & get next state and reward\n",
        "    \n",
        "#         S_, R, terminated, truncated, _ = env.step(A)            \n",
        "            \n",
        "        \n",
        "#         q_predict = q_table.loc[S, A]\n",
        "#         # if S_ != 'terminal':\n",
        "#         if S_ == 15:\n",
        "#             q_target = R     # next state is terminal\n",
        "#             terminated = True    # terminate this episode\n",
        "            \n",
        "#         else:\n",
        "#             q_target = R + GAMMA * q_table.iloc[S_, :].max()   # next state is not terminal\n",
        "\n",
        "#         q_table.loc[S, A] += ALPHA * (q_target - q_predict)  # update\n",
        "#         S = S_  # move to next state\n",
        "\n",
        "#         # update_env(S, episode, step_counter+1)\n",
        "#         step_counter += 1\n",
        "# return q_table\n",
        "\n",
        "\n",
        "for episode in range(num_episodes):\n",
        "    state = env.reset()\n",
        "    done = False\n",
        "\n",
        "    for step in range(max_steps_per_episode):\n",
        "\n",
        "        # Exploration-exploitation trade-off\n",
        "        exploration_rate_threshold = random.uniform(0, 1)\n",
        "        if exploration_rate_threshold > epsilon:\n",
        "            action = np.argmax(q_table[state,:])\n",
        "        else:\n",
        "            action = env.action_space.sample()\n",
        "\n",
        "        new_state, reward, done, info = env.step(action)\n",
        "\n",
        "\n",
        "        time.sleep(0.3)  # Slow down for better visualization\n",
        "\n",
        "        # Update Q-table for Q(s,a)\n",
        "        q_table[state, action] = q_table[state, action] *  (1 - learning_rate)  + learning_rate * (reward + discount_rate * np.max(q_table[new_state, :]))\n",
        "\n",
        "\n",
        "        state = new_state\n",
        "\n",
        "        if done == True:\n",
        "            break\n",
        "\n",
        "\n",
        "\n",
        "# Print updated Q-table\n",
        "print(\"\\n\\n********Q-table********\\n\")\n",
        "print(q_table)"
      ]
    },
    {
      "cell_type": "code",
      "execution_count": null,
      "metadata": {
        "id": "Blf7T0ELThCq"
      },
      "outputs": [],
      "source": [
        "def rlDeploy(q_table):\n",
        "    #Deploy Code\n",
        "    actionLog = []\n",
        "    for episode in range(1):\n",
        "        state = env.reset()\n",
        "        done = False\n",
        "        print(\"*****EPISODE \", episode+1, \"*****\\n\\n\\n\\n\")\n",
        "        time.sleep(1)\n",
        "\n",
        "        for step in range(max_steps_per_episode):\n",
        "            clear_output(wait=True)\n",
        "            env.render()\n",
        "            time.sleep(0.3)\n",
        "\n",
        "            action = np.argmax(q_table[state,:])\n",
        "            actionLog.append(action)\n",
        "            new_state, reward, done, info = env.step(action)\n",
        "\n",
        "\n",
        "            if done:\n",
        "                clear_output(wait=True)\n",
        "                env.render()\n",
        "                if reward == 1:\n",
        "                    print(\"****You reached the goal!****\")\n",
        "                    time.sleep(3)\n",
        "                else:\n",
        "                    print(\"****You fell through a hole!****\")\n",
        "                    time.sleep(3)\n",
        "                clear_output(wait=True)\n",
        "                break\n",
        "\n",
        "            state = new_state\n",
        "\n",
        "    env.close()\n"
      ]
    },
    {
      "cell_type": "code",
      "execution_count": null,
      "metadata": {
        "colab": {
          "base_uri": "https://localhost:8080/"
        },
        "id": "jh-xMUCPib4h",
        "outputId": "32f4029a-946d-47f9-bd97-f9d4b69d3a2e"
      },
      "outputs": [
        {
          "ename": "InvalidIndexError",
          "evalue": "((0, {'prob': 1}), slice(None, None, None))",
          "output_type": "error",
          "traceback": [
            "\u001b[31m---------------------------------------------------------------------------\u001b[39m",
            "\u001b[31mTypeError\u001b[39m                                 Traceback (most recent call last)",
            "\u001b[36mFile \u001b[39m\u001b[32m~/delete/ReinforcementLearning/rlvenv/lib/python3.12/site-packages/pandas/core/indexes/base.py:3812\u001b[39m, in \u001b[36mIndex.get_loc\u001b[39m\u001b[34m(self, key)\u001b[39m\n\u001b[32m   3811\u001b[39m \u001b[38;5;28;01mtry\u001b[39;00m:\n\u001b[32m-> \u001b[39m\u001b[32m3812\u001b[39m     \u001b[38;5;28;01mreturn\u001b[39;00m \u001b[38;5;28;43mself\u001b[39;49m\u001b[43m.\u001b[49m\u001b[43m_engine\u001b[49m\u001b[43m.\u001b[49m\u001b[43mget_loc\u001b[49m\u001b[43m(\u001b[49m\u001b[43mcasted_key\u001b[49m\u001b[43m)\u001b[49m\n\u001b[32m   3813\u001b[39m \u001b[38;5;28;01mexcept\u001b[39;00m \u001b[38;5;167;01mKeyError\u001b[39;00m \u001b[38;5;28;01mas\u001b[39;00m err:\n",
            "\u001b[36mFile \u001b[39m\u001b[32mpandas/_libs/index.pyx:167\u001b[39m, in \u001b[36mpandas._libs.index.IndexEngine.get_loc\u001b[39m\u001b[34m()\u001b[39m\n",
            "\u001b[36mFile \u001b[39m\u001b[32mpandas/_libs/index.pyx:173\u001b[39m, in \u001b[36mpandas._libs.index.IndexEngine.get_loc\u001b[39m\u001b[34m()\u001b[39m\n",
            "\u001b[31mTypeError\u001b[39m: '((0, {'prob': 1}), slice(None, None, None))' is an invalid key",
            "\nDuring handling of the above exception, another exception occurred:\n",
            "\u001b[31mInvalidIndexError\u001b[39m                         Traceback (most recent call last)",
            "\u001b[36mCell\u001b[39m\u001b[36m \u001b[39m\u001b[32mIn[54]\u001b[39m\u001b[32m, line 1\u001b[39m\n\u001b[32m----> \u001b[39m\u001b[32m1\u001b[39m \u001b[43mrlDeploy\u001b[49m\u001b[43m(\u001b[49m\u001b[43mq_table\u001b[49m\u001b[43m)\u001b[49m\n",
            "\u001b[36mCell\u001b[39m\u001b[36m \u001b[39m\u001b[32mIn[53]\u001b[39m\u001b[32m, line 15\u001b[39m, in \u001b[36mrlDeploy\u001b[39m\u001b[34m(q_table)\u001b[39m\n\u001b[32m     12\u001b[39m env.render()\n\u001b[32m     13\u001b[39m time.sleep(\u001b[32m0.3\u001b[39m)\n\u001b[32m---> \u001b[39m\u001b[32m15\u001b[39m action = np.argmax(\u001b[43mq_table\u001b[49m\u001b[43m[\u001b[49m\u001b[43mstate\u001b[49m\u001b[43m,\u001b[49m\u001b[43m:\u001b[49m\u001b[43m]\u001b[49m)\n\u001b[32m     16\u001b[39m actionLog.append(action)\n\u001b[32m     17\u001b[39m new_state, reward, done, info = env.step(action)\n",
            "\u001b[36mFile \u001b[39m\u001b[32m~/delete/ReinforcementLearning/rlvenv/lib/python3.12/site-packages/pandas/core/frame.py:4107\u001b[39m, in \u001b[36mDataFrame.__getitem__\u001b[39m\u001b[34m(self, key)\u001b[39m\n\u001b[32m   4105\u001b[39m \u001b[38;5;28;01mif\u001b[39;00m \u001b[38;5;28mself\u001b[39m.columns.nlevels > \u001b[32m1\u001b[39m:\n\u001b[32m   4106\u001b[39m     \u001b[38;5;28;01mreturn\u001b[39;00m \u001b[38;5;28mself\u001b[39m._getitem_multilevel(key)\n\u001b[32m-> \u001b[39m\u001b[32m4107\u001b[39m indexer = \u001b[38;5;28;43mself\u001b[39;49m\u001b[43m.\u001b[49m\u001b[43mcolumns\u001b[49m\u001b[43m.\u001b[49m\u001b[43mget_loc\u001b[49m\u001b[43m(\u001b[49m\u001b[43mkey\u001b[49m\u001b[43m)\u001b[49m\n\u001b[32m   4108\u001b[39m \u001b[38;5;28;01mif\u001b[39;00m is_integer(indexer):\n\u001b[32m   4109\u001b[39m     indexer = [indexer]\n",
            "\u001b[36mFile \u001b[39m\u001b[32m~/delete/ReinforcementLearning/rlvenv/lib/python3.12/site-packages/pandas/core/indexes/base.py:3824\u001b[39m, in \u001b[36mIndex.get_loc\u001b[39m\u001b[34m(self, key)\u001b[39m\n\u001b[32m   3819\u001b[39m     \u001b[38;5;28;01mraise\u001b[39;00m \u001b[38;5;167;01mKeyError\u001b[39;00m(key) \u001b[38;5;28;01mfrom\u001b[39;00m\u001b[38;5;250m \u001b[39m\u001b[34;01merr\u001b[39;00m\n\u001b[32m   3820\u001b[39m \u001b[38;5;28;01mexcept\u001b[39;00m \u001b[38;5;167;01mTypeError\u001b[39;00m:\n\u001b[32m   3821\u001b[39m     \u001b[38;5;66;03m# If we have a listlike key, _check_indexing_error will raise\u001b[39;00m\n\u001b[32m   3822\u001b[39m     \u001b[38;5;66;03m#  InvalidIndexError. Otherwise we fall through and re-raise\u001b[39;00m\n\u001b[32m   3823\u001b[39m     \u001b[38;5;66;03m#  the TypeError.\u001b[39;00m\n\u001b[32m-> \u001b[39m\u001b[32m3824\u001b[39m     \u001b[38;5;28;43mself\u001b[39;49m\u001b[43m.\u001b[49m\u001b[43m_check_indexing_error\u001b[49m\u001b[43m(\u001b[49m\u001b[43mkey\u001b[49m\u001b[43m)\u001b[49m\n\u001b[32m   3825\u001b[39m     \u001b[38;5;28;01mraise\u001b[39;00m\n",
            "\u001b[36mFile \u001b[39m\u001b[32m~/delete/ReinforcementLearning/rlvenv/lib/python3.12/site-packages/pandas/core/indexes/base.py:6072\u001b[39m, in \u001b[36mIndex._check_indexing_error\u001b[39m\u001b[34m(self, key)\u001b[39m\n\u001b[32m   6068\u001b[39m \u001b[38;5;28;01mdef\u001b[39;00m\u001b[38;5;250m \u001b[39m\u001b[34m_check_indexing_error\u001b[39m(\u001b[38;5;28mself\u001b[39m, key):\n\u001b[32m   6069\u001b[39m     \u001b[38;5;28;01mif\u001b[39;00m \u001b[38;5;129;01mnot\u001b[39;00m is_scalar(key):\n\u001b[32m   6070\u001b[39m         \u001b[38;5;66;03m# if key is not a scalar, directly raise an error (the code below\u001b[39;00m\n\u001b[32m   6071\u001b[39m         \u001b[38;5;66;03m# would convert to numpy arrays and raise later any way) - GH29926\u001b[39;00m\n\u001b[32m-> \u001b[39m\u001b[32m6072\u001b[39m         \u001b[38;5;28;01mraise\u001b[39;00m InvalidIndexError(key)\n",
            "\u001b[31mInvalidIndexError\u001b[39m: ((0, {'prob': 1}), slice(None, None, None))"
          ]
        }
      ],
      "source": [
        "rlDeploy(q_table)"
      ]
    },
    {
      "cell_type": "code",
      "execution_count": null,
      "metadata": {},
      "outputs": [],
      "source": []
    }
  ],
  "metadata": {
    "colab": {
      "provenance": []
    },
    "kernelspec": {
      "display_name": "Python 3",
      "language": "python",
      "name": "python3"
    },
    "language_info": {
      "codemirror_mode": {
        "name": "ipython",
        "version": 3
      },
      "file_extension": ".py",
      "mimetype": "text/x-python",
      "name": "python",
      "nbconvert_exporter": "python",
      "pygments_lexer": "ipython3",
      "version": "3.12.11"
    }
  },
  "nbformat": 4,
  "nbformat_minor": 0
}
