{
  "cells": [
    {
      "cell_type": "code",
      "execution_count": 1,
      "metadata": {
        "id": "ocuJ-hWqKtQc"
      },
      "outputs": [],
      "source": [
        "import numpy as np\n",
        "import pandas as pd\n",
        "import time\n",
        "\n",
        "np.random.seed(2)  # reproducible"
      ]
    },
    {
      "cell_type": "code",
      "execution_count": 2,
      "metadata": {
        "id": "SE0M6JUEKtQf"
      },
      "outputs": [],
      "source": [
        "N_STATES = 6   # the length of the 1 dimensional world\n",
        "ACTIONS = ['left', 'right']     # available actions\n",
        "\n",
        "EPSILON = 0.9   # greedy policy\n",
        "ALPHA = 0.1     # learning rate\n",
        "GAMMA = 0.9    # discount factor\n",
        "\n",
        "MAX_EPISODES = 13   # maximum episodes\n",
        "\n",
        "FRESH_TIME = 0.3    # refresh/pause time for one move used in time.sleep"
      ]
    },
    {
      "cell_type": "code",
      "execution_count": 3,
      "metadata": {
        "id": "t994CxrbKtQg"
      },
      "outputs": [],
      "source": [
        "def build_q_table(n_states, actions):\n",
        "    table = pd.DataFrame(\n",
        "        np.zeros((n_states, len(actions))),     # q_table initial values\n",
        "        columns=actions,    # actions's name\n",
        "    )\n",
        "    #print(table)    # show table\n",
        "    return table"
      ]
    },
    {
      "cell_type": "code",
      "execution_count": 4,
      "metadata": {
        "id": "4nKjPiGwKtQg"
      },
      "outputs": [],
      "source": [
        "def choose_action(state, q_table):\n",
        "    # This is how to choose an action\n",
        "    state_actions = q_table.iloc[state, :]\n",
        "\n",
        "    if (np.random.uniform() > EPSILON) or ((state_actions == 0).all()):  # act non-greedy or state-action have no value\n",
        "        action_name = np.random.choice(ACTIONS)\n",
        "    else:   # act greedy\n",
        "        action_name = state_actions.idxmax()    # replace argmax to idxmax as argmax means a different function in newer version of pandas\n",
        "\n",
        "    return action_name"
      ]
    },
    {
      "cell_type": "code",
      "execution_count": 5,
      "metadata": {
        "id": "kP_P9I8_pwli"
      },
      "outputs": [],
      "source": [
        "#Exploitation Method\n",
        "def actionWithTrainedModel(state,q_table):\n",
        "  state_actions = q_table.iloc[state, :]\n",
        "  action_name = state_actions.idxmax()\n",
        "  return action_name"
      ]
    },
    {
      "cell_type": "code",
      "execution_count": 6,
      "metadata": {
        "id": "3-6I6weGKtQh"
      },
      "outputs": [],
      "source": [
        "def get_env_feedback(S, A):\n",
        "    # This is how agent will interact with the environment\n",
        "    if A == 'right':    # move right\n",
        "        if S == N_STATES - 2:   # terminate\n",
        "            S_ = 'terminal'\n",
        "            R = 1\n",
        "        else:\n",
        "            S_ = S + 1\n",
        "            R = 0\n",
        "    else:   # move left\n",
        "        R = 0\n",
        "        if S == 0:\n",
        "            S_ = S  # reach the wall\n",
        "        else:\n",
        "            S_ = S - 1\n",
        "    return S_, R\n"
      ]
    },
    {
      "cell_type": "code",
      "execution_count": 7,
      "metadata": {
        "id": "x_2QdNUUKtQh"
      },
      "outputs": [],
      "source": [
        "def update_env(S, episode, step_counter):\n",
        "    # This is how environment be updated\n",
        "    env_list = ['-']*(N_STATES-1) + ['T']   # '---------T' our environment\n",
        "    if S == 'terminal':\n",
        "        interaction = 'Episode %s: total_steps = %s' % (episode+1, step_counter)\n",
        "        print('\\r{}'.format(interaction), end='')\n",
        "        time.sleep(2)\n",
        "        print('\\r                                ', end='')\n",
        "    else:\n",
        "        env_list[S] = 'o'\n",
        "        interaction = ''.join(env_list)\n",
        "        print('\\r{}'.format(interaction), end='')\n",
        "        time.sleep(FRESH_TIME)"
      ]
    },
    {
      "cell_type": "code",
      "execution_count": 8,
      "metadata": {
        "id": "PCPpBGOlKtQi"
      },
      "outputs": [],
      "source": [
        "def rl():\n",
        "    # main part of RL loop\n",
        "    q_table = build_q_table(N_STATES, ACTIONS)\n",
        "    for episode in range(MAX_EPISODES):\n",
        "        step_counter = 0\n",
        "        S = 0\n",
        "        is_terminated = False\n",
        "        update_env(S, episode, step_counter)\n",
        "        while not is_terminated:\n",
        "\n",
        "            A = choose_action(S, q_table)\n",
        "            S_, R = get_env_feedback(S, A)  # take action & get next state and reward\n",
        "            q_predict = q_table.loc[S, A]\n",
        "            if S_ != 'terminal':\n",
        "                q_target = R + GAMMA * q_table.iloc[S_, :].max()   # next state is not terminal\n",
        "            else:\n",
        "                q_target = R     # next state is terminal\n",
        "                is_terminated = True    # terminate this episode\n",
        "\n",
        "            q_table.loc[S, A] += ALPHA * (q_target - q_predict)  # update\n",
        "            S = S_  # move to next state\n",
        "\n",
        "            update_env(S, episode, step_counter+1)\n",
        "            step_counter += 1\n",
        "    return q_table"
      ]
    },
    {
      "cell_type": "code",
      "execution_count": 9,
      "metadata": {
        "colab": {
          "base_uri": "https://localhost:8080/"
        },
        "id": "f8LwEQoKKtQj",
        "outputId": "51e07a59-b640-4cb0-9150-9aeaca1c4f5f"
      },
      "outputs": [
        {
          "name": "stdout",
          "output_type": "stream",
          "text": [
            "                                \n",
            "Q-table:\n",
            "\n",
            "       left     right\n",
            "0  0.000000  0.004320\n",
            "1  0.000000  0.025005\n",
            "2  0.000030  0.111241\n",
            "3  0.000000  0.368750\n",
            "4  0.027621  0.745813\n",
            "5  0.000000  0.000000\n"
          ]
        }
      ],
      "source": [
        "q_table = rl()\n",
        "print('\\r\\nQ-table:\\n')\n",
        "print(q_table)"
      ]
    },
    {
      "cell_type": "code",
      "execution_count": 10,
      "metadata": {
        "id": "Blf7T0ELThCq"
      },
      "outputs": [],
      "source": [
        "def rlDeploy(trained_q_table):\n",
        "    # main part of RL loop\n",
        "    q_table = trained_q_table\n",
        "    for episode in range(1):\n",
        "        step_counter = 0\n",
        "        S = 0\n",
        "        is_terminated = False\n",
        "        update_env(S, episode, step_counter) #Vis\n",
        "        while not is_terminated:\n",
        "\n",
        "            A = actionWithTrainedModel(S, q_table) #Policy Function\n",
        "            S_, R = get_env_feedback(S, A)  # take action & get next state and reward\n",
        "            S = S_  # move to next state\n",
        "\n",
        "            update_env(S, episode, step_counter+1)\n",
        "            step_counter += 1\n",
        "            if S == 'terminal':\n",
        "              break\n",
        "\n"
      ]
    },
    {
      "cell_type": "code",
      "execution_count": 11,
      "metadata": {
        "colab": {
          "base_uri": "https://localhost:8080/"
        },
        "id": "jh-xMUCPib4h",
        "outputId": "32f4029a-946d-47f9-bd97-f9d4b69d3a2e"
      },
      "outputs": [
        {
          "name": "stdout",
          "output_type": "stream",
          "text": [
            "                                "
          ]
        }
      ],
      "source": [
        "rlDeploy(q_table)"
      ]
    }
  ],
  "metadata": {
    "colab": {
      "provenance": []
    },
    "kernelspec": {
      "display_name": "Python 3",
      "language": "python",
      "name": "python3"
    },
    "language_info": {
      "codemirror_mode": {
        "name": "ipython",
        "version": 3
      },
      "file_extension": ".py",
      "mimetype": "text/x-python",
      "name": "python",
      "nbconvert_exporter": "python",
      "pygments_lexer": "ipython3",
      "version": "3.12.11"
    }
  },
  "nbformat": 4,
  "nbformat_minor": 0
}
