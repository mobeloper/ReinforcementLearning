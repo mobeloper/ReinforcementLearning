{
 "cells": [
  {
   "cell_type": "code",
   "execution_count": 8,
   "id": "09a2862a",
   "metadata": {},
   "outputs": [],
   "source": [
    "import gymnasium as gym\n",
    "import time\n",
    "\n",
    "# Create FrozenLake with human rendering (non-slippery)\n",
    "env = gym.make(\"FrozenLake-v1\", is_slippery=False, render_mode=\"human\")\n"
   ]
  },
  {
   "cell_type": "code",
   "execution_count": 9,
   "id": "6741fb00",
   "metadata": {},
   "outputs": [
    {
     "name": "stdout",
     "output_type": "stream",
     "text": [
      "\n",
      "Episode 1 started\n",
      "Episode 1 ended with reward: 0.0\n",
      "\n",
      "Episode 2 started\n",
      "Episode 2 ended with reward: 0.0\n",
      "\n",
      "Episode 3 started\n",
      "Episode 3 ended with reward: 0.0\n",
      "\n",
      "Episode 4 started\n",
      "Episode 4 ended with reward: 0.0\n",
      "\n",
      "Episode 5 started\n",
      "Episode 5 ended with reward: 0.0\n"
     ]
    }
   ],
   "source": [
    "episodes = 5\n",
    "max_steps = 100\n",
    "\n",
    "for episode in range(episodes):\n",
    "    state, _ = env.reset()\n",
    "    print(f\"\\nEpisode {episode + 1} started\")\n",
    "\n",
    "    for step in range(max_steps):\n",
    "        action = env.action_space.sample()  # Random action\n",
    "        next_state, reward, terminated, truncated, _ = env.step(action)\n",
    "\n",
    "        time.sleep(0.3)  # Slow down for better visualization\n",
    "\n",
    "        if terminated or truncated:\n",
    "            print(f\"Episode {episode + 1} ended with reward: {reward}\")\n",
    "            break\n",
    "\n",
    "env.close()"
   ]
  }
 ],
 "metadata": {
  "kernelspec": {
   "display_name": "Python 3",
   "language": "python",
   "name": "python3"
  },
  "language_info": {
   "codemirror_mode": {
    "name": "ipython",
    "version": 3
   },
   "file_extension": ".py",
   "mimetype": "text/x-python",
   "name": "python",
   "nbconvert_exporter": "python",
   "pygments_lexer": "ipython3",
   "version": "3.12.0"
  }
 },
 "nbformat": 4,
 "nbformat_minor": 5
}
