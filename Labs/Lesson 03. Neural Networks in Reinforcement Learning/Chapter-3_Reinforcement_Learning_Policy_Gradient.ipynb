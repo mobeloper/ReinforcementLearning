{
  "cells": [
    {
      "cell_type": "markdown",
      "metadata": {
        "id": "BzTwoUa_j0d2"
      },
      "source": [
        "<center> <font size = 6 color = 'steelblue'> <b>Reinforcement Learning with Policy Gradients:\n",
        "<center> <font size = 6\n",
        " color = 'steelblue'> <b>Solving LunarLander-v2"
      ]
    },
    {
      "cell_type": "markdown",
      "metadata": {
        "id": "sbXQxGsrj7MI"
      },
      "source": [
        "<div class=\"alert alert-block alert-success\">\n",
        "<font size = 4>\n",
        "\n",
        "This notebook explores reinforcement learning (RL), focusing on the use of **Policy Gradient** methods to solve the **LunarLander-v2** environment from OpenAI Gym."
      ]
    },
    {
      "cell_type": "markdown",
      "metadata": {
        "tags": [],
        "id": "oSN5psEQLVTi"
      },
      "source": [
        "<font size = 6 color = 'midnightblue'> <b>Objective of LunarLander-v2"
      ]
    },
    {
      "cell_type": "markdown",
      "metadata": {
        "id": "a9IVE2a-LVTi"
      },
      "source": [
        "<div class=\"alert alert-block alert-success\">\n",
        "<font size = 4>\n",
        "    \n",
        "- The **LunarLander-v2** is a simulation where the goal is to land a spacecraft on the moon safely.\n",
        "- The lander starts in the air and must make a soft landing between two flags on a landing pad.\n",
        "- The player controls the lander's engines, trying to minimize fuel consumption while avoiding crashing or tipping over.\n",
        "- Successful landings yield positive points, while using too much fuel or crashing will result in penalties."
      ]
    },
    {
      "cell_type": "markdown",
      "metadata": {
        "id": "zzdC8SixLVTj"
      },
      "source": [
        "## <center> ![Alt Text](https://www.gymlibrary.dev/_images/lunar_lander.gif)"
      ]
    },
    {
      "cell_type": "markdown",
      "metadata": {
        "id": "cliE9E5ZLVTj"
      },
      "source": [
        "<font size = 6 color = 'midnightblue'> <b> What is Policy Gradients?"
      ]
    },
    {
      "cell_type": "markdown",
      "metadata": {
        "id": "5ZE_UbHaLVTk"
      },
      "source": [
        "<div class=\"alert alert-block alert-success\">\n",
        "<font size = 4>\n",
        "    \n",
        "- Policy gradient methods are a class of reinforcement learning algorithms that directly parameterize and optimize the policy.\n",
        "- Unlike value-based methods, which first learn the value of actions and then derive a policy, policy gradients adjust the policy directly based on the received reward signal."
      ]
    },
    {
      "cell_type": "markdown",
      "metadata": {
        "id": "ZPQbHLCuLVTl"
      },
      "source": [
        "<div class=\"alert alert-block alert-info\">\n",
        "<font size = 4>\n",
        "    \n",
        "<b>In this notebook, you will:</b>\n",
        "\n",
        "- **Understand the Environment**:\n",
        "> Dive into the dynamics of the 'LunarLander-v2'environment.\n",
        "> Summarize the state observations, possible actions, and reward structure.\n",
        "\n",
        "- **Implement Policy Gradients**:\n",
        "> Learn to implement a Policy Gradient algorithm, a powerful technique in RL for solving environments with high-dimensional action spaces or continuous action spaces.\n",
        "\n",
        "- **Train Your Agent**:\n",
        "> Train an agent from scratch to successfully land the lunar module.\n",
        "> Observe the agent improve over time, learning from each landing attempt.\n",
        "\n",
        "- **Evaluate and Iterate**:\n",
        "> Evaluate the performance of your agent, visualize its learning progress, and understand the key metrics indicative of successful learning."
      ]
    },
    {
      "cell_type": "markdown",
      "metadata": {
        "id": "okdBHcx3LVTm"
      },
      "source": [
        "<font size = 5 color = 'seagreen'> <b> Setup"
      ]
    },
    {
      "cell_type": "markdown",
      "metadata": {
        "id": "L1rUzJp3LVTm"
      },
      "source": [
        "<div class=\"alert alert-block alert-info\">\n",
        "<font size = 4>\n",
        "\n",
        "<b>Make sure that all the required libraries are installed.\n",
        "\n",
        "```\n",
        "pip install gym==0.25.2\n",
        "\n",
        "pip install swig\n",
        "\n",
        "pip install \"gym[box2d]\"\n",
        "```\n"
      ]
    },
    {
      "cell_type": "code",
      "execution_count": null,
      "metadata": {
        "id": "95GMzCXQ8N06",
        "outputId": "0b4eddbe-1f0b-499a-bc27-cde4071d901c"
      },
      "outputs": [
        {
          "name": "stderr",
          "output_type": "stream",
          "text": [
            "2023-12-29 23:15:17.297180: I tensorflow/core/platform/cpu_feature_guard.cc:182] This TensorFlow binary is optimized to use available CPU instructions in performance-critical operations.\n",
            "To enable the following instructions: AVX2 FMA, in other operations, rebuild TensorFlow with the appropriate compiler flags.\n"
          ]
        }
      ],
      "source": [
        "# Python ≥3.5 is required\n",
        "import sys\n",
        "assert sys.version_info >= (3, 5)\n",
        "\n",
        "# TensorFlow ≥2.0 is required\n",
        "import tensorflow as tf\n",
        "from tensorflow import keras\n",
        "assert tf.__version__ >= \"2.0\"\n",
        "\n",
        "# Common imports\n",
        "import numpy as np\n",
        "import os\n",
        "\n",
        "# to make this notebook's output stable across runs\n",
        "np.random.seed(42)\n",
        "tf.random.set_seed(42)\n",
        "\n",
        "# To plot pretty figures\n",
        "%matplotlib inline\n",
        "import matplotlib as mpl\n",
        "import matplotlib.pyplot as plt\n",
        "mpl.rc('axes', labelsize=14)\n",
        "mpl.rc('xtick', labelsize=12)\n",
        "mpl.rc('ytick', labelsize=12)\n",
        "\n",
        "# To get smooth animations\n",
        "import matplotlib.animation as animation\n",
        "mpl.rc('animation', html='jshtml')"
      ]
    },
    {
      "cell_type": "code",
      "execution_count": null,
      "metadata": {
        "id": "2U4nsfjR6n0q"
      },
      "outputs": [],
      "source": [
        "# Scikit-Learn ≥0.20 is required\n",
        "import sklearn\n",
        "assert sklearn.__version__ >= \"0.20\""
      ]
    },
    {
      "cell_type": "markdown",
      "metadata": {
        "id": "lvYbv8G-Yfvr"
      },
      "source": [
        "<font size = 6 color = 'midnightblue'> <b> Introduction to OpenAI Gym"
      ]
    },
    {
      "cell_type": "markdown",
      "metadata": {
        "id": "Ds8U6GmlLVTr"
      },
      "source": [
        "<div class=\"alert alert-block alert-success\">\n",
        "<font size = 4>\n",
        "    \n",
        "- Utilize OpenAI Gym, an excellent resource for crafting and evaluating reinforcement learning models.\n",
        "- It offers a variety of scenarios for your learning agents to engage with.\n",
        "    \n",
        "    "
      ]
    },
    {
      "cell_type": "code",
      "execution_count": null,
      "metadata": {
        "id": "h8cQPsY7691-"
      },
      "outputs": [],
      "source": [
        "import gym"
      ]
    },
    {
      "cell_type": "markdown",
      "metadata": {
        "id": "iAw8Nv8DBq38"
      },
      "source": [
        "<div class=\"alert alert-block alert-success\">\n",
        "<font size = 4>\n",
        "    \n",
        "The `gym.envs.registry.all()` function is a part of the OpenAI Gym library.\n",
        "Here's a breakdown of its purpose and use:\n",
        "\n",
        "- **Purpose**:\n",
        "> - The function returns a container of all the available environments that can be created and used in OpenAI Gym. <br>\n",
        "> - This is particularly useful for getting a comprehensive list of all the different simulation environments one can experiment with.<br>\n",
        "> - Ranging from classic control tasks, Atari games, to robotic simulations.\n",
        "\n",
        "\n",
        "- **Common Use Case**:\n",
        "> - This function is commonly used to explore the different environments available in Gym.\n",
        "> - Or to verify the existence and details of a specific environment.\n",
        "> - For instance, it can help you discover new environments to test your reinforcement learning algorithms.\n",
        "\n",
        "<b>\n",
        "    \n",
        "\n",
        "---\n",
        "     PS: Mention of below code line in this notebook is just informational. Its presence or absence doesn't affect the working of this notebook\n",
        "    \n",
        "---"
      ]
    },
    {
      "cell_type": "code",
      "execution_count": null,
      "metadata": {
        "colab": {
          "base_uri": "https://localhost:8080/"
        },
        "collapsed": true,
        "id": "gMQim5Wh8I-p",
        "jupyter": {
          "outputs_hidden": true
        },
        "outputId": "f609d0a3-659f-4484-ab9e-3cf820c163fc",
        "tags": []
      },
      "outputs": [
        {
          "name": "stderr",
          "output_type": "stream",
          "text": [
            "/opt/anaconda3/envs/rl/lib/python3.10/site-packages/gym/envs/registration.py:421: UserWarning: \u001b[33mWARN: The `registry.all` method is deprecated. Please use `registry.values` instead.\u001b[0m\n",
            "  logger.warn(\n"
          ]
        },
        {
          "data": {
            "text/plain": [
              "dict_values([EnvSpec(id='CartPole-v0', entry_point='gym.envs.classic_control.cartpole:CartPoleEnv', reward_threshold=195.0, nondeterministic=False, max_episode_steps=200, order_enforce=True, autoreset=False, disable_env_checker=False, new_step_api=False, kwargs={}, namespace=None, name='CartPole', version=0), EnvSpec(id='CartPole-v1', entry_point='gym.envs.classic_control.cartpole:CartPoleEnv', reward_threshold=475.0, nondeterministic=False, max_episode_steps=500, order_enforce=True, autoreset=False, disable_env_checker=False, new_step_api=False, kwargs={}, namespace=None, name='CartPole', version=1), EnvSpec(id='MountainCar-v0', entry_point='gym.envs.classic_control.mountain_car:MountainCarEnv', reward_threshold=-110.0, nondeterministic=False, max_episode_steps=200, order_enforce=True, autoreset=False, disable_env_checker=False, new_step_api=False, kwargs={}, namespace=None, name='MountainCar', version=0), EnvSpec(id='MountainCarContinuous-v0', entry_point='gym.envs.classic_control.continuous_mountain_car:Continuous_MountainCarEnv', reward_threshold=90.0, nondeterministic=False, max_episode_steps=999, order_enforce=True, autoreset=False, disable_env_checker=False, new_step_api=False, kwargs={}, namespace=None, name='MountainCarContinuous', version=0), EnvSpec(id='Pendulum-v1', entry_point='gym.envs.classic_control.pendulum:PendulumEnv', reward_threshold=None, nondeterministic=False, max_episode_steps=200, order_enforce=True, autoreset=False, disable_env_checker=False, new_step_api=False, kwargs={}, namespace=None, name='Pendulum', version=1), EnvSpec(id='Acrobot-v1', entry_point='gym.envs.classic_control.acrobot:AcrobotEnv', reward_threshold=-100.0, nondeterministic=False, max_episode_steps=500, order_enforce=True, autoreset=False, disable_env_checker=False, new_step_api=False, kwargs={}, namespace=None, name='Acrobot', version=1), EnvSpec(id='LunarLander-v2', entry_point='gym.envs.box2d.lunar_lander:LunarLander', reward_threshold=200, nondeterministic=False, max_episode_steps=1000, order_enforce=True, autoreset=False, disable_env_checker=False, new_step_api=False, kwargs={}, namespace=None, name='LunarLander', version=2), EnvSpec(id='LunarLanderContinuous-v2', entry_point='gym.envs.box2d.lunar_lander:LunarLander', reward_threshold=200, nondeterministic=False, max_episode_steps=1000, order_enforce=True, autoreset=False, disable_env_checker=False, new_step_api=False, kwargs={'continuous': True}, namespace=None, name='LunarLanderContinuous', version=2), EnvSpec(id='BipedalWalker-v3', entry_point='gym.envs.box2d.bipedal_walker:BipedalWalker', reward_threshold=300, nondeterministic=False, max_episode_steps=1600, order_enforce=True, autoreset=False, disable_env_checker=False, new_step_api=False, kwargs={}, namespace=None, name='BipedalWalker', version=3), EnvSpec(id='BipedalWalkerHardcore-v3', entry_point='gym.envs.box2d.bipedal_walker:BipedalWalker', reward_threshold=300, nondeterministic=False, max_episode_steps=2000, order_enforce=True, autoreset=False, disable_env_checker=False, new_step_api=False, kwargs={'hardcore': True}, namespace=None, name='BipedalWalkerHardcore', version=3), EnvSpec(id='CarRacing-v2', entry_point='gym.envs.box2d.car_racing:CarRacing', reward_threshold=900, nondeterministic=False, max_episode_steps=1000, order_enforce=True, autoreset=False, disable_env_checker=False, new_step_api=False, kwargs={}, namespace=None, name='CarRacing', version=2), EnvSpec(id='Blackjack-v1', entry_point='gym.envs.toy_text.blackjack:BlackjackEnv', reward_threshold=None, nondeterministic=False, max_episode_steps=None, order_enforce=True, autoreset=False, disable_env_checker=False, new_step_api=False, kwargs={'sab': True, 'natural': False}, namespace=None, name='Blackjack', version=1), EnvSpec(id='FrozenLake-v1', entry_point='gym.envs.toy_text.frozen_lake:FrozenLakeEnv', reward_threshold=0.7, nondeterministic=False, max_episode_steps=100, order_enforce=True, autoreset=False, disable_env_checker=False, new_step_api=False, kwargs={'map_name': '4x4'}, namespace=None, name='FrozenLake', version=1), EnvSpec(id='FrozenLake8x8-v1', entry_point='gym.envs.toy_text.frozen_lake:FrozenLakeEnv', reward_threshold=0.85, nondeterministic=False, max_episode_steps=200, order_enforce=True, autoreset=False, disable_env_checker=False, new_step_api=False, kwargs={'map_name': '8x8'}, namespace=None, name='FrozenLake8x8', version=1), EnvSpec(id='CliffWalking-v0', entry_point='gym.envs.toy_text.cliffwalking:CliffWalkingEnv', reward_threshold=None, nondeterministic=False, max_episode_steps=None, order_enforce=True, autoreset=False, disable_env_checker=False, new_step_api=False, kwargs={}, namespace=None, name='CliffWalking', version=0), EnvSpec(id='Taxi-v3', entry_point='gym.envs.toy_text.taxi:TaxiEnv', reward_threshold=8, nondeterministic=False, max_episode_steps=200, order_enforce=True, autoreset=False, disable_env_checker=False, new_step_api=False, kwargs={}, namespace=None, name='Taxi', version=3), EnvSpec(id='Reacher-v2', entry_point='gym.envs.mujoco:ReacherEnv', reward_threshold=-3.75, nondeterministic=False, max_episode_steps=50, order_enforce=True, autoreset=False, disable_env_checker=False, new_step_api=False, kwargs={}, namespace=None, name='Reacher', version=2), EnvSpec(id='Reacher-v4', entry_point='gym.envs.mujoco.reacher_v4:ReacherEnv', reward_threshold=-3.75, nondeterministic=False, max_episode_steps=50, order_enforce=True, autoreset=False, disable_env_checker=False, new_step_api=False, kwargs={}, namespace=None, name='Reacher', version=4), EnvSpec(id='Pusher-v2', entry_point='gym.envs.mujoco:PusherEnv', reward_threshold=0.0, nondeterministic=False, max_episode_steps=100, order_enforce=True, autoreset=False, disable_env_checker=False, new_step_api=False, kwargs={}, namespace=None, name='Pusher', version=2), EnvSpec(id='Pusher-v4', entry_point='gym.envs.mujoco.pusher_v4:PusherEnv', reward_threshold=0.0, nondeterministic=False, max_episode_steps=100, order_enforce=True, autoreset=False, disable_env_checker=False, new_step_api=False, kwargs={}, namespace=None, name='Pusher', version=4), EnvSpec(id='InvertedPendulum-v2', entry_point='gym.envs.mujoco:InvertedPendulumEnv', reward_threshold=950.0, nondeterministic=False, max_episode_steps=1000, order_enforce=True, autoreset=False, disable_env_checker=False, new_step_api=False, kwargs={}, namespace=None, name='InvertedPendulum', version=2), EnvSpec(id='InvertedPendulum-v4', entry_point='gym.envs.mujoco.inverted_pendulum_v4:InvertedPendulumEnv', reward_threshold=950.0, nondeterministic=False, max_episode_steps=1000, order_enforce=True, autoreset=False, disable_env_checker=False, new_step_api=False, kwargs={}, namespace=None, name='InvertedPendulum', version=4), EnvSpec(id='InvertedDoublePendulum-v2', entry_point='gym.envs.mujoco:InvertedDoublePendulumEnv', reward_threshold=9100.0, nondeterministic=False, max_episode_steps=1000, order_enforce=True, autoreset=False, disable_env_checker=False, new_step_api=False, kwargs={}, namespace=None, name='InvertedDoublePendulum', version=2), EnvSpec(id='InvertedDoublePendulum-v4', entry_point='gym.envs.mujoco.inverted_double_pendulum_v4:InvertedDoublePendulumEnv', reward_threshold=9100.0, nondeterministic=False, max_episode_steps=1000, order_enforce=True, autoreset=False, disable_env_checker=False, new_step_api=False, kwargs={}, namespace=None, name='InvertedDoublePendulum', version=4), EnvSpec(id='HalfCheetah-v2', entry_point='gym.envs.mujoco:HalfCheetahEnv', reward_threshold=4800.0, nondeterministic=False, max_episode_steps=1000, order_enforce=True, autoreset=False, disable_env_checker=False, new_step_api=False, kwargs={}, namespace=None, name='HalfCheetah', version=2), EnvSpec(id='HalfCheetah-v3', entry_point='gym.envs.mujoco.half_cheetah_v3:HalfCheetahEnv', reward_threshold=4800.0, nondeterministic=False, max_episode_steps=1000, order_enforce=True, autoreset=False, disable_env_checker=False, new_step_api=False, kwargs={}, namespace=None, name='HalfCheetah', version=3), EnvSpec(id='HalfCheetah-v4', entry_point='gym.envs.mujoco.half_cheetah_v4:HalfCheetahEnv', reward_threshold=4800.0, nondeterministic=False, max_episode_steps=1000, order_enforce=True, autoreset=False, disable_env_checker=False, new_step_api=False, kwargs={}, namespace=None, name='HalfCheetah', version=4), EnvSpec(id='Hopper-v2', entry_point='gym.envs.mujoco:HopperEnv', reward_threshold=3800.0, nondeterministic=False, max_episode_steps=1000, order_enforce=True, autoreset=False, disable_env_checker=False, new_step_api=False, kwargs={}, namespace=None, name='Hopper', version=2), EnvSpec(id='Hopper-v3', entry_point='gym.envs.mujoco.hopper_v3:HopperEnv', reward_threshold=3800.0, nondeterministic=False, max_episode_steps=1000, order_enforce=True, autoreset=False, disable_env_checker=False, new_step_api=False, kwargs={}, namespace=None, name='Hopper', version=3), EnvSpec(id='Hopper-v4', entry_point='gym.envs.mujoco.hopper_v4:HopperEnv', reward_threshold=3800.0, nondeterministic=False, max_episode_steps=1000, order_enforce=True, autoreset=False, disable_env_checker=False, new_step_api=False, kwargs={}, namespace=None, name='Hopper', version=4), EnvSpec(id='Swimmer-v2', entry_point='gym.envs.mujoco:SwimmerEnv', reward_threshold=360.0, nondeterministic=False, max_episode_steps=1000, order_enforce=True, autoreset=False, disable_env_checker=False, new_step_api=False, kwargs={}, namespace=None, name='Swimmer', version=2), EnvSpec(id='Swimmer-v3', entry_point='gym.envs.mujoco.swimmer_v3:SwimmerEnv', reward_threshold=360.0, nondeterministic=False, max_episode_steps=1000, order_enforce=True, autoreset=False, disable_env_checker=False, new_step_api=False, kwargs={}, namespace=None, name='Swimmer', version=3), EnvSpec(id='Swimmer-v4', entry_point='gym.envs.mujoco.swimmer_v4:SwimmerEnv', reward_threshold=360.0, nondeterministic=False, max_episode_steps=1000, order_enforce=True, autoreset=False, disable_env_checker=False, new_step_api=False, kwargs={}, namespace=None, name='Swimmer', version=4), EnvSpec(id='Walker2d-v2', entry_point='gym.envs.mujoco:Walker2dEnv', reward_threshold=None, nondeterministic=False, max_episode_steps=1000, order_enforce=True, autoreset=False, disable_env_checker=False, new_step_api=False, kwargs={}, namespace=None, name='Walker2d', version=2), EnvSpec(id='Walker2d-v3', entry_point='gym.envs.mujoco.walker2d_v3:Walker2dEnv', reward_threshold=None, nondeterministic=False, max_episode_steps=1000, order_enforce=True, autoreset=False, disable_env_checker=False, new_step_api=False, kwargs={}, namespace=None, name='Walker2d', version=3), EnvSpec(id='Walker2d-v4', entry_point='gym.envs.mujoco.walker2d_v4:Walker2dEnv', reward_threshold=None, nondeterministic=False, max_episode_steps=1000, order_enforce=True, autoreset=False, disable_env_checker=False, new_step_api=False, kwargs={}, namespace=None, name='Walker2d', version=4), EnvSpec(id='Ant-v2', entry_point='gym.envs.mujoco:AntEnv', reward_threshold=6000.0, nondeterministic=False, max_episode_steps=1000, order_enforce=True, autoreset=False, disable_env_checker=False, new_step_api=False, kwargs={}, namespace=None, name='Ant', version=2), EnvSpec(id='Ant-v3', entry_point='gym.envs.mujoco.ant_v3:AntEnv', reward_threshold=6000.0, nondeterministic=False, max_episode_steps=1000, order_enforce=True, autoreset=False, disable_env_checker=False, new_step_api=False, kwargs={}, namespace=None, name='Ant', version=3), EnvSpec(id='Ant-v4', entry_point='gym.envs.mujoco.ant_v4:AntEnv', reward_threshold=6000.0, nondeterministic=False, max_episode_steps=1000, order_enforce=True, autoreset=False, disable_env_checker=False, new_step_api=False, kwargs={}, namespace=None, name='Ant', version=4), EnvSpec(id='Humanoid-v2', entry_point='gym.envs.mujoco:HumanoidEnv', reward_threshold=None, nondeterministic=False, max_episode_steps=1000, order_enforce=True, autoreset=False, disable_env_checker=False, new_step_api=False, kwargs={}, namespace=None, name='Humanoid', version=2), EnvSpec(id='Humanoid-v3', entry_point='gym.envs.mujoco.humanoid_v3:HumanoidEnv', reward_threshold=None, nondeterministic=False, max_episode_steps=1000, order_enforce=True, autoreset=False, disable_env_checker=False, new_step_api=False, kwargs={}, namespace=None, name='Humanoid', version=3), EnvSpec(id='Humanoid-v4', entry_point='gym.envs.mujoco.humanoid_v4:HumanoidEnv', reward_threshold=None, nondeterministic=False, max_episode_steps=1000, order_enforce=True, autoreset=False, disable_env_checker=False, new_step_api=False, kwargs={}, namespace=None, name='Humanoid', version=4), EnvSpec(id='HumanoidStandup-v2', entry_point='gym.envs.mujoco:HumanoidStandupEnv', reward_threshold=None, nondeterministic=False, max_episode_steps=1000, order_enforce=True, autoreset=False, disable_env_checker=False, new_step_api=False, kwargs={}, namespace=None, name='HumanoidStandup', version=2), EnvSpec(id='HumanoidStandup-v4', entry_point='gym.envs.mujoco.humanoidstandup_v4:HumanoidStandupEnv', reward_threshold=None, nondeterministic=False, max_episode_steps=1000, order_enforce=True, autoreset=False, disable_env_checker=False, new_step_api=False, kwargs={}, namespace=None, name='HumanoidStandup', version=4)])"
            ]
          },
          "execution_count": 4,
          "metadata": {},
          "output_type": "execute_result"
        }
      ],
      "source": [
        "gym.envs.registry.all()"
      ]
    },
    {
      "cell_type": "markdown",
      "metadata": {
        "id": "vUshfrHy37du"
      },
      "source": [
        "<div class=\"alert alert-block alert-info\">\n",
        "<font size = 4><center><b>\n",
        "    Let's start by creating a LunarLander-v2 environment!"
      ]
    },
    {
      "cell_type": "markdown",
      "metadata": {
        "id": "sbaQiMvYLVTs"
      },
      "source": [
        "<div class=\"alert alert-block alert-success\">\n",
        "<font size = 4>\n",
        "    \n",
        "<b>The code snippet is used to initialize an environment for the Lunar Lander game (version 2) using OpenAI's Gym library.\n",
        "\n",
        "<b>Here's a breakdown of what each line does:\n",
        "\n",
        "<b>1. `env = gym.make(\"LunarLander-v2\")`:\n",
        "    \n",
        "> * This line creates a new environment instance for the Lunar Lander v2 game.<br>\n",
        "> * The `gym.make()` function is used to instantiate a new environment, in this case, LunarLander-v2.\n",
        "\n",
        "<b>2. `env.seed(42)`:\n",
        "    \n",
        "> * This line sets the seed for the environment's random number generator to 42.\n",
        "> * Seeding the environment makes the process deterministic, which is helpful for reproducibility and debugging.\n",
        "> * The number 42 is arbitrary and can be replaced with any integer.\n",
        "\n",
        "<b>3. `obs = env.reset()`:\n",
        "\n",
        "> * This line resets the environment to an initial state and returns the initial observation.\n",
        "> * The `reset` method is typically called before starting an episode, and the returned `obs` variable represents the first observation of the environment.\n",
        "\n",
        "<b>4. `obs`:\n",
        "\n",
        ">* This simply represents the variable holding the initial observation of the environment after reset.\n",
        ">* It is typically an array representing the state of the environment, which includes various numerical values such as the position and velocity of the lander.\n"
      ]
    },
    {
      "cell_type": "code",
      "execution_count": null,
      "metadata": {
        "colab": {
          "base_uri": "https://localhost:8080/"
        },
        "id": "ZVdGf_Vp37du",
        "outputId": "74a1634e-d022-45e0-d25f-e10a721e181a"
      },
      "outputs": [
        {
          "name": "stderr",
          "output_type": "stream",
          "text": [
            "/opt/anaconda3/envs/rl/lib/python3.10/site-packages/gym/core.py:256: DeprecationWarning: \u001b[33mWARN: Function `env.seed(seed)` is marked as deprecated and will be removed in the future. Please use `env.reset(seed=seed)` instead.\u001b[0m\n",
            "  deprecation(\n"
          ]
        },
        {
          "data": {
            "text/plain": [
              "array([ 0.00229702,  1.4181306 ,  0.2326471 ,  0.3204666 , -0.00265488,\n",
              "       -0.05269805,  0.        ,  0.        ], dtype=float32)"
            ]
          },
          "execution_count": 8,
          "metadata": {},
          "output_type": "execute_result"
        }
      ],
      "source": [
        "env = gym.make(\"LunarLander-v2\")\n",
        "\n",
        "env.seed(42)\n",
        "obs = env.reset()\n",
        "obs"
      ]
    },
    {
      "cell_type": "markdown",
      "metadata": {
        "id": "5P3VnDfN37dv"
      },
      "source": [
        "<div class=\"alert alert-block alert-success\">\n",
        "<font size = 4>\n",
        "    \n",
        "<b> These each 8D observation (x, y, h, v, a, w, l, r) correspond to:\n",
        "    \n",
        "* x, y:\n",
        "    - The coordinates of the spaceship\n",
        "    - It starts at a random location near (0, 1.4) and must land near the target at (0, 0).\n",
        "* h, v:\n",
        "    - The horizontal and vertical speed of the spaceship\n",
        "    - It starts with a small random speed.\n",
        "* a, w:\n",
        "    - The spaceship's angle and angular velocity\n",
        "* l, r:\n",
        "    - Whether the left or right leg touches the ground (1.0) or not (0.0)."
      ]
    },
    {
      "cell_type": "markdown",
      "metadata": {
        "id": "2EEUK6k6LVTt"
      },
      "source": [
        "<font size = 5 color = 'seagreen'> <b>Explore the action space of the LunarLander V2 environment\n",
        "<div class=\"alert alert-block alert-success\">\n",
        "<font size = 4>\n",
        "\n",
        "- The `env.action_space` attribute is part of the OpenAI Gym environment's interface.\n",
        "- It describes the format and range of possible actions that an agent can take in the environment.\n",
        "- Specifically, for the \"LunarLander-v2\" environment, here's what it signifies:\n",
        "\n",
        ">- **`env.action_space`**:\n",
        ">>- This attribute provides a space object that defines the set of valid actions.\n",
        ">>- In the context of the Lunar Lander v2 game, the action space defines what kind of moves or actions the lander can take at any step during the simulation.\n",
        ">>- The Lunar Lander's actions typically include discrete movements such as firing the left orientation engine, the main engine, the right orientation engine, or no action.\n",
        "\n",
        ">- By querying `env.action_space`, an understanding of the structure, type (e.g., discrete or continuous), and range of the actions that the agent can performed.\n",
        ">- This information is crucial for designing the agent's decision-making process.\n",
        ">- The agent needs to know what actions are available to interact effectively with the environment."
      ]
    },
    {
      "cell_type": "markdown",
      "metadata": {
        "id": "NPcHYYDaLVTu"
      },
      "source": [
        "<div class=\"alert alert-block alert-info\">\n",
        "<font size = 4>\n",
        "  <b>  \n",
        "\n",
        "---\n",
        "<b>In summary,\n",
        "\n",
        "- `env.action_space` is used to understand and interact with the Lunar Lander's possible actions within the simulation environment provided by OpenAI Gym.\n",
        "\n",
        "---"
      ]
    },
    {
      "cell_type": "markdown",
      "metadata": {
        "id": "HOBtPZ-237dv"
      },
      "source": [
        "<font size = 4 color= blue> <b>The action space is discrete, with 4 possible actions:"
      ]
    },
    {
      "cell_type": "code",
      "execution_count": null,
      "metadata": {
        "colab": {
          "base_uri": "https://localhost:8080/"
        },
        "id": "5ZvKxKJQ37dv",
        "outputId": "0b435755-5b24-4cae-8b1d-e0694b71693f"
      },
      "outputs": [
        {
          "data": {
            "text/plain": [
              "Discrete(4)"
            ]
          },
          "execution_count": 9,
          "metadata": {},
          "output_type": "execute_result"
        }
      ],
      "source": [
        "env.action_space"
      ]
    },
    {
      "cell_type": "markdown",
      "metadata": {
        "id": "nVYEy0qN37dv"
      },
      "source": [
        "<div class=\"alert alert-block alert-success\">\n",
        "<font size = 4>\n",
        "\n",
        "<b>These actions are:\n",
        "    \n",
        "* Do nothing\n",
        "* Fire left orientation engine\n",
        "* Fire main engine\n",
        "* Fire right orientation engine"
      ]
    },
    {
      "cell_type": "markdown",
      "metadata": {
        "id": "r2sOeoBO37dw"
      },
      "source": [
        "<font size = 5 color = 'seagreen'> <b>Create a simple policy network with 4 output neurons (one per possible action)"
      ]
    },
    {
      "cell_type": "markdown",
      "metadata": {
        "id": "2avtbyo4LVTv"
      },
      "source": [
        "<div class=\"alert alert-block alert-success\">\n",
        "<font size = 4>\n",
        "    \n",
        "<b> Following code snippet is setting up a neural network model using Keras, a high-level neural networks API, for a reinforcement learning task in the Lunar Lander environment from OpenAI Gym.\n",
        "    \n",
        "\n",
        "<b> Here's a breakdown of what each part of the code does:\n",
        "   \n",
        "1. `keras.backend.clear_session()`:\n",
        ">- This line clears any existing model from memory.\n",
        ">- It's good practice to start with a clean state when you're creating a new model, as this ensures the model's variables do not interfere with those from previous models.\n",
        "\n",
        "2. `np.random.seed(42)`:\n",
        ">- Sets the seed for NumPy's random number generator to 42, which ensures reproducibility of the results by initializing the random number generator to a fixed state.\n",
        "\n",
        "3. `tf.random.set_seed(42)`:\n",
        ">-  Similarly, sets the seed for TensorFlow's random number generator to 42, ensuring that the random numbers generated by TensorFlow are predictable and reproducible.\n",
        "\n",
        "4. `n_inputs = env.observation_space.shape[0]`:\n",
        ">- This line determines the number of input features for the neural network, which corresponds to the size of the observation space from the Lunar Lander environment.\n",
        ">- It's dynamically setting the number of inputs based on the environment's specifications.\n",
        "\n",
        "5. `n_outputs = env.action_space.n`:\n",
        ">- Determines the number of output neurons needed for the network, which corresponds to the number of possible actions in the Lunar Lander environment's action space.\n",
        "\n",
        "6. The last section is defining a sequential neural network model using Keras:\n",
        ">- It's a simple feed-forward network with two hidden layers, each with 32 neurons and 'relu' activation functions.\n",
        ">- The input shape of the first layer is set to `[n_inputs]` to match the environment's observation space.\n",
        ">- The output layer has `n_outputs` neurons, one for each possible action, and uses a 'softmax' activation function to output a probability distribution over all possible actions."
      ]
    },
    {
      "cell_type": "markdown",
      "metadata": {
        "id": "ijzQARU_LVTv"
      },
      "source": [
        "<div class=\"alert alert-block alert-info\">\n",
        "<font size = 4>\n",
        "  <b>  \n",
        "      \n",
        "---\n",
        "In summary,\n",
        "- This code is constructing a neural network that takes the state of the Lunar Lander as input and outputs a probability distribution over possible actions to take.\n",
        "- It's a typical setup for a policy network in reinforcement learning, where the agent learns to decide the best action to take in each state.\n",
        "    \n",
        "---"
      ]
    },
    {
      "cell_type": "code",
      "execution_count": null,
      "metadata": {
        "id": "GqlZTcIO37dw"
      },
      "outputs": [],
      "source": [
        "keras.backend.clear_session()\n",
        "np.random.seed(42)\n",
        "tf.random.set_seed(42)\n",
        "\n",
        "n_inputs = env.observation_space.shape[0]\n",
        "n_outputs = env.action_space.n\n",
        "\n",
        "model = keras.models.Sequential([\n",
        "    keras.layers.Dense(32, activation=\"relu\", input_shape=[n_inputs]),\n",
        "    keras.layers.Dense(32, activation=\"relu\"),\n",
        "    keras.layers.Dense(n_outputs, activation=\"softmax\"),\n",
        "])"
      ]
    },
    {
      "cell_type": "markdown",
      "metadata": {
        "id": "Hyp2ZNw_37dw"
      },
      "source": [
        "<font size = 5 color = 'seagreen'> <b>Define functions to execute the single steps as well as episodes for the training process\n",
        "\n",
        "<div class=\"alert alert-block alert-success\">\n",
        "<font size = 4>\n",
        "  <b>  \n",
        "      \n",
        "This code defines two functions for implementing a training loop in reinforcement learning using policy gradients on the Lunar Lander environment from OpenAI Gym:\n",
        "\n",
        "1. `lander_play_one_step`:\n",
        ">- This function takes a single step in the environment using the current observation and model to choose an action.\n",
        ">- It computes the probability of each action, selects one action using these probabilities, and calculates the loss to perform a gradient update.\n",
        ">- The function returns the new observation, reward for the taken action, whether the episode is done, and the gradients calculated for updating the model.\n",
        "\n",
        "2. `lander_play_multiple_episodes`:\n",
        ">- This function orchestrates the training process over multiple episodes.\n",
        ">- It resets the environment at the start of each episode and calls `lander_play_one_step` repeatedly until the episode is done or a maximum number of steps is reached.\n",
        ">- It collects rewards and gradients for each step to use in optimizing the model.\n",
        ">- Finally, it returns the total rewards and gradients collected over all episodes.\n",
        "\n",
        "Overall, these functions are part of a reinforcement learning setup, where `lander_play_multiple_episodes` is used to play multiple episodes of the Lunar Lander game, collecting experience in terms of rewards and gradients for training a policy model represented by `model`.\n"
      ]
    },
    {
      "cell_type": "code",
      "execution_count": null,
      "metadata": {
        "id": "9b3ciHvV37dw"
      },
      "outputs": [],
      "source": [
        "def lander_play_one_step(env, obs, model, loss_fn):\n",
        "    with tf.GradientTape() as tape:\n",
        "        probas = model(obs[np.newaxis])\n",
        "        logits = tf.math.log(probas + keras.backend.epsilon())\n",
        "        action = tf.random.categorical(logits, num_samples=1)\n",
        "        loss = tf.reduce_mean(loss_fn(action, probas))\n",
        "    grads = tape.gradient(loss, model.trainable_variables)\n",
        "    obs, reward, done, info = env.step(action[0, 0].numpy())\n",
        "    return obs, reward, done, grads\n",
        "\n",
        "def lander_play_multiple_episodes(env, n_episodes, n_max_steps, model, loss_fn):\n",
        "    all_rewards = []\n",
        "    all_grads = []\n",
        "    for episode in range(n_episodes):\n",
        "        current_rewards = []\n",
        "        current_grads = []\n",
        "        obs = env.reset()\n",
        "        for step in range(n_max_steps):\n",
        "            obs, reward, done, grads = lander_play_one_step(env, obs, model, loss_fn)\n",
        "            current_rewards.append(reward)\n",
        "            current_grads.append(grads)\n",
        "            if done:\n",
        "                break\n",
        "        all_rewards.append(current_rewards)\n",
        "        all_grads.append(current_grads)\n",
        "    return all_rewards, all_grads"
      ]
    },
    {
      "cell_type": "markdown",
      "metadata": {
        "id": "tLE_R5fy37dw"
      },
      "source": [
        "<font size = 5 color = 'seagreen'> <b>Define functions to process rewards\n",
        "\n",
        "<div class=\"alert alert-block alert-success\">\n",
        "<font size = 4>\n",
        "  <b>  \n",
        "Following functions are part of a reinforcement learning algorithm, specifically for processing rewards in policy gradient methods:\n",
        "    </b>   \n",
        "\n",
        "<b>1. `discount_rewards`:</b>\n",
        "\n",
        "- This function takes a sequence of rewards from a single episode and applies a discount factor to calculate the total expected future rewards for each step.\n",
        "- It iteratively updates each reward with the sum of all future discounted rewards, effectively valuing immediate rewards more than distant ones in the future.\n",
        "    \n",
        "<b>2. `discount_and_normalize_rewards`: </b>\n",
        "    \n",
        "- This function applies the discounting to all episodes' rewards using the `discount_rewards` function and then normalizes them.\n",
        "- Normalization is done by subtracting the mean and dividing by the standard deviation of the concatenated discounted rewards from all episodes.\n",
        "- This process helps in stabilizing the learning algorithm by keeping the reward scale consistent across updates."
      ]
    },
    {
      "cell_type": "markdown",
      "metadata": {
        "id": "jgCoXinmLVTx"
      },
      "source": [
        "<div class=\"alert alert-block alert-info\">\n",
        "<font size = 4>\n",
        "    \n",
        "Together, these functions prepare the rewards from multiple episodes for efficient learning in policy gradient methods by discounting and normalizing them, which is a common practice in reinforcement learning to improve convergence."
      ]
    },
    {
      "cell_type": "code",
      "execution_count": null,
      "metadata": {
        "id": "evUjGY5J37dw"
      },
      "outputs": [],
      "source": [
        "def discount_rewards(rewards, discount_rate):\n",
        "    discounted = np.array(rewards)\n",
        "    for step in range(len(rewards) - 2, -1, -1):\n",
        "        discounted[step] += discounted[step + 1] * discount_rate\n",
        "    return discounted\n",
        "\n",
        "def discount_and_normalize_rewards(all_rewards, discount_rate):\n",
        "    all_discounted_rewards = [discount_rewards(rewards, discount_rate)\n",
        "                              for rewards in all_rewards]\n",
        "    flat_rewards = np.concatenate(all_discounted_rewards)\n",
        "    reward_mean = flat_rewards.mean()\n",
        "    reward_std = flat_rewards.std()\n",
        "    return [(discounted_rewards - reward_mean) / reward_std\n",
        "            for discounted_rewards in all_discounted_rewards]"
      ]
    },
    {
      "cell_type": "markdown",
      "metadata": {
        "id": "hPAysyQ437dw"
      },
      "source": [
        "<font size = 5 color = 'seagreen'> <b>Define hyperparameters\n",
        "\n",
        "<div class=\"alert alert-block alert-success\">\n",
        "<font size = 4>\n",
        "  <b>  \n",
        "      \n",
        "Following code snippet sets up several key hyperparameters for a reinforcement learning training loop, specifically for a policy gradient method:</b>\n",
        "\n",
        "- `n_iterations`:\n",
        "    - This is the number of total training iterations to perform.\n",
        "    - Each iteration will likely involve one or more episodes of interaction with the environment, followed by a learning update.\n",
        "\n",
        "- `n_episodes_per_update`:\n",
        "    - This specifies the number of episodes to run before updating the model.\n",
        "    - In policy gradient methods, it's common to collect several episodes of experience and then perform an update to the policy network all at once using the aggregated data.\n",
        "\n",
        "- `n_max_steps`:\n",
        "    - This defines the maximum number of steps to take in each episode.\n",
        "    - It acts as a cutoff to ensure that episodes don't run indefinitely, which is particularly important in environments where it's possible to not reach a terminal state quickly.\n",
        "\n",
        "- `discount_rate`:\n",
        "    - This is the discount factor (often denoted as gamma in literature) used in calculating the discounted rewards.\n",
        "    - It represents the degree to which future rewards are considered in the calculation of the total expected reward.\n",
        "    - A discount rate close to 1 means future rewards are valued almost as highly as immediate rewards, whereas a lower discount rate prioritizes immediate rewards more heavily."
      ]
    },
    {
      "cell_type": "code",
      "execution_count": null,
      "metadata": {
        "id": "TRS45cj337dx"
      },
      "outputs": [],
      "source": [
        "n_iterations = 200\n",
        "n_episodes_per_update = 16\n",
        "n_max_steps = 1000\n",
        "discount_rate = 0.99"
      ]
    },
    {
      "cell_type": "markdown",
      "metadata": {
        "id": "Mq3I8nif37dx"
      },
      "source": [
        "<font size = 5 color = 'seagreen'> <b>Define optimizer and loss function\n",
        "\n",
        "<div class=\"alert alert-block alert-success\">\n",
        "<font size = 4>\n",
        "  <b>  \n",
        "      \n",
        "The given code snippet is configuring key components for training a neural network model in a machine learning or deep learning context using the Keras library:</b>\n",
        "\n",
        "- `optimizer = keras.optimizers.Nadam(learning_rate=0.005)`:\n",
        "    - This line sets up the Nadam optimizer with a specified learning rate of 0.005.\n",
        "    - Nadam is an optimization algorithm that combines the benefits of two other algorithms: RMSprop and Nesterov accelerated gradient.\n",
        "    - It's known for being robust and effective in various scenarios, particularly in settings with noisy gradients or those requiring adaptive learning rates.\n",
        "    - The learning rate controls how much to update the model in response to the estimated error each time the model weights are updated.\n",
        "\n",
        "- `loss_fn = keras.losses.sparse_categorical_crossentropy`:\n",
        "    - This line defines the loss function to be used in the model training, which is sparse categorical crossentropy.\n",
        "    - This loss function is commonly used in classification tasks where the classes are mutually exclusive.\n",
        "    - It is especially suited for scenarios where the target classes are provided as integers (as in sparse format), rather than one-hot encoded vectors."
      ]
    },
    {
      "cell_type": "code",
      "execution_count": null,
      "metadata": {
        "id": "zcRksN5Y37dx"
      },
      "outputs": [],
      "source": [
        "optimizer = keras.optimizers.Nadam(learning_rate=0.005)\n",
        "loss_fn = keras.losses.sparse_categorical_crossentropy"
      ]
    },
    {
      "cell_type": "markdown",
      "metadata": {
        "id": "ZjTPN7gk37dx"
      },
      "source": [
        "<font size = 5 color = 'seagreen'> <b>Define Training Loop\n",
        "\n",
        "<div class=\"alert alert-block alert-success\">\n",
        "<font size = 4>\n",
        "  <b>  \n",
        "      \n",
        "Folowing code is executing the training loop for an agent in the Lunar Lander environment using a policy gradient method. Here's the summarized workflow:</b>\n",
        "\n",
        "- The loop runs for a specified number of iterations (`n_iterations`).\n",
        "- In each iteration, it plays multiple episodes of the game (as per `n_episodes_per_update`) using the current policy model and collects rewards and gradients for each episode.\n",
        "- It calculates the mean reward across all episodes in the current iteration to monitor the performance of the agent.\n",
        "- This mean reward is appended to a list for later analysis or visualization.\n",
        "- For each episode, it processes the collected rewards using a discounting and normalization function to prepare them for effective learning.\n",
        "- It then calculates the mean gradients across all episodes.\n",
        "- These gradients are scaled by the discounted and normalized rewards, aligning with the policy gradient method's objective of maximizing total expected rewards.\n",
        "- Finally, it applies these mean gradients to the model's parameters using the defined optimizer, effectively updating the policy in the direction that increases expected rewards.\n",
        "\n",
        "The loop represents a complete training cycle in reinforcement learning, aiming to improve the agent's policy to perform better in the Lunar Lander environment."
      ]
    },
    {
      "cell_type": "code",
      "execution_count": null,
      "metadata": {
        "colab": {
          "base_uri": "https://localhost:8080/"
        },
        "id": "QUxJgBN237dx",
        "outputId": "93eee965-c874-444e-b2c9-6c2ba3d4de4d"
      },
      "outputs": [
        {
          "name": "stderr",
          "output_type": "stream",
          "text": [
            "/opt/anaconda3/envs/rl/lib/python3.10/site-packages/gym/utils/passive_env_checker.py:241: DeprecationWarning: `np.bool8` is a deprecated alias for `np.bool_`.  (Deprecated NumPy 1.24)\n",
            "  if not isinstance(terminated, (bool, np.bool8)):\n"
          ]
        },
        {
          "name": "stdout",
          "output_type": "stream",
          "text": [
            "Iteration: 200/200, mean reward: 147.0  "
          ]
        }
      ],
      "source": [
        "env.seed(42)\n",
        "\n",
        "mean_rewards = []\n",
        "\n",
        "for iteration in range(n_iterations):\n",
        "    all_rewards, all_grads = lander_play_multiple_episodes(\n",
        "        env, n_episodes_per_update, n_max_steps, model, loss_fn)\n",
        "    mean_reward = sum(map(sum, all_rewards)) / n_episodes_per_update\n",
        "    print(\"\\rIteration: {}/{}, mean reward: {:.1f}  \".format(\n",
        "        iteration + 1, n_iterations, mean_reward), end=\"\")\n",
        "    mean_rewards.append(mean_reward)\n",
        "    all_final_rewards = discount_and_normalize_rewards(all_rewards,\n",
        "                                                       discount_rate)\n",
        "    all_mean_grads = []\n",
        "    for var_index in range(len(model.trainable_variables)):\n",
        "        mean_grads = tf.reduce_mean(\n",
        "            [final_reward * all_grads[episode_index][step][var_index]\n",
        "             for episode_index, final_rewards in enumerate(all_final_rewards)\n",
        "                 for step, final_reward in enumerate(final_rewards)], axis=0)\n",
        "        all_mean_grads.append(mean_grads)\n",
        "    optimizer.apply_gradients(zip(all_mean_grads, model.trainable_variables))"
      ]
    },
    {
      "cell_type": "markdown",
      "metadata": {
        "id": "KkBSrOlw37dx"
      },
      "source": [
        "<font size = 5 color = 'seagreen'> <b>Let's look at the learning curve:"
      ]
    },
    {
      "cell_type": "code",
      "execution_count": null,
      "metadata": {
        "id": "0v00Bx8K37dx",
        "outputId": "ccd4116a-f0e0-47cc-d515-47ae07f38d8f"
      },
      "outputs": [
        {
          "data": {
            "image/png": "[encoded data removed]",
            "text/plain": [
              "<Figure size 640x480 with 1 Axes>"
            ]
          },
          "metadata": {},
          "output_type": "display_data"
        }
      ],
      "source": [
        "import matplotlib.pyplot as plt\n",
        "\n",
        "plt.plot(mean_rewards)\n",
        "plt.xlabel(\"Episode\")\n",
        "plt.ylabel(\"Mean reward\")\n",
        "plt.grid()\n",
        "plt.show()"
      ]
    },
    {
      "cell_type": "markdown",
      "metadata": {
        "id": "VDo13dQr37dx"
      },
      "source": [
        "<font size = 5 color = 'seagreen'> <b>Now let's look at the result!"
      ]
    },
    {
      "cell_type": "markdown",
      "metadata": {
        "id": "4AaLD1XTLVT3"
      },
      "source": [
        "<div class=\"alert alert-block alert-success\">\n",
        "<font size = 4>\n",
        "      \n",
        "- This code defines a function `lander_render_policy_net`, which is designed to visualize the policy network's behavior in the Lunar Lander environment:\n",
        "\n",
        "- This function is used to visually demonstrate how a trained policy network performs in the Lunar Lander game, providing insights into the decision-making process and behavior of the agent.\n"
      ]
    },
    {
      "cell_type": "code",
      "execution_count": null,
      "metadata": {
        "id": "KyJooCJs37dx"
      },
      "outputs": [],
      "source": [
        "def lander_render_policy_net(model, n_max_steps=500, seed=42):\n",
        "    frames = []\n",
        "    env = gym.make(\"LunarLander-v2\")\n",
        "    env.seed(seed)\n",
        "    tf.random.set_seed(seed)\n",
        "    np.random.seed(seed)\n",
        "    obs = env.reset()\n",
        "    for step in range(n_max_steps):\n",
        "        frames.append(env.render(mode=\"rgb_array\"))\n",
        "        probas = model(obs[np.newaxis])\n",
        "        logits = tf.math.log(probas + keras.backend.epsilon())\n",
        "        action = tf.random.categorical(logits, num_samples=1)\n",
        "        obs, reward, done, info = env.step(action[0, 0].numpy())\n",
        "        if done:\n",
        "            break\n",
        "    env.close()\n",
        "    return frames\n",
        "\n",
        "def update_scene(num, frames, patch):\n",
        "    patch.set_data(frames[num])\n",
        "    return patch,\n",
        "def plot_animation(frames, repeat=False, interval=40):\n",
        "    fig = plt.figure()\n",
        "    patch = plt.imshow(frames[0])\n",
        "    plt.axis('off')\n",
        "    anim = animation.FuncAnimation(\n",
        "        fig, update_scene, fargs=(frames, patch),\n",
        "        frames=len(frames), repeat=repeat, interval=interval)\n",
        "    plt.close()\n",
        "    return anim"
      ]
    },
    {
      "cell_type": "code",
      "execution_count": null,
      "metadata": {
        "id": "FRFEvkMJ37dy"
      },
      "outputs": [],
      "source": [
        "frames = lander_render_policy_net(model, seed=42)\n",
        "plot_animation(frames)"
      ]
    },
    {
      "cell_type": "markdown",
      "metadata": {
        "id": "ZuODxEB637dy"
      },
      "source": [
        "<div class=\"alert alert-block alert-info\">\n",
        "<font size = 4> <center> <b>\n",
        "    This model can be trained for longer time and/or the hyperparameters can be tweaked to see if it can get it to go over 200."
      ]
    },
    {
      "cell_type": "code",
      "execution_count": null,
      "metadata": {
        "id": "G3ez385tLVT4"
      },
      "outputs": [],
      "source": []
    }
  ],
  "metadata": {
    "accelerator": "GPU",
    "colab": {
      "gpuType": "T4",
      "provenance": []
    },
    "kernelspec": {
      "display_name": "Python 3 (ipykernel)",
      "language": "python",
      "name": "python3"
    },
    "language_info": {
      "codemirror_mode": {
        "name": "ipython",
        "version": 3
      },
      "file_extension": ".py",
      "mimetype": "text/x-python",
      "name": "python",
      "nbconvert_exporter": "python",
      "pygments_lexer": "ipython3",
      "version": "3.11.5"
    }
  },
  "nbformat": 4,
  "nbformat_minor": 0
}