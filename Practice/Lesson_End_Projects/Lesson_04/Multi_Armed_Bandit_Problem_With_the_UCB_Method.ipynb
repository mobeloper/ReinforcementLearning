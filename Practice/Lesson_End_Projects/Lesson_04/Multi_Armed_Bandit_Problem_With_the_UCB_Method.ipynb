{
 "cells": [
  {
   "cell_type": "markdown",
   "metadata": {
    "colab_type": "text",
    "id": "ltLeM6sHMPib"
   },
   "source": [
    "### Problem Statement: \n",
    "\n",
    "A marketing team sends promotional messages to customers. Whenever the customers receive the promotional message, their reactions vary vastly. For every customer’s reaction, the marketing team gets a reward. You are given a set of data from which you have to find the highest rewarding message."
   ]
  },
  {
   "cell_type": "markdown",
   "metadata": {
    "colab_type": "text",
    "id": "xWR8wkxnMPid"
   },
   "source": [
    "### Import libraries"
   ]
  },
  {
   "cell_type": "code",
   "execution_count": 0,
   "metadata": {
    "colab": {},
    "colab_type": "code",
    "id": "oFyisFO5MPif"
   },
   "outputs": [],
   "source": [
    "import math\n",
    "import random\n",
    "import seaborn as sns\n",
    "import pandas as pd\n",
    "import numpy as np\n",
    "import matplotlib.pyplot as plt"
   ]
  },
  {
   "cell_type": "markdown",
   "metadata": {
    "colab_type": "text",
    "id": "OFVeyoDZMPil"
   },
   "source": [
    "### Load the dataset"
   ]
  },
  {
   "cell_type": "code",
   "execution_count": 0,
   "metadata": {
    "colab": {},
    "colab_type": "code",
    "id": "qeAXHea1MPim",
    "outputId": "94b85b60-9919-4c71-a68e-24585953c7fb"
   },
   "outputs": [
    {
     "data": {
      "text/html": [
       "<div>\n",
       "<style scoped>\n",
       "    .dataframe tbody tr th:only-of-type {\n",
       "        vertical-align: middle;\n",
       "    }\n",
       "\n",
       "    .dataframe tbody tr th {\n",
       "        vertical-align: top;\n",
       "    }\n",
       "\n",
       "    .dataframe thead th {\n",
       "        text-align: right;\n",
       "    }\n",
       "</style>\n",
       "<table border=\"1\" class=\"dataframe\">\n",
       "  <thead>\n",
       "    <tr style=\"text-align: right;\">\n",
       "      <th></th>\n",
       "      <th>Customer</th>\n",
       "      <th>sms_1</th>\n",
       "      <th>sms_2</th>\n",
       "      <th>sms_3</th>\n",
       "      <th>sms_4</th>\n",
       "    </tr>\n",
       "  </thead>\n",
       "  <tbody>\n",
       "    <tr>\n",
       "      <td>0</td>\n",
       "      <td>0</td>\n",
       "      <td>-1.821934</td>\n",
       "      <td>30.279602</td>\n",
       "      <td>-1.559028</td>\n",
       "      <td>10.263097</td>\n",
       "    </tr>\n",
       "    <tr>\n",
       "      <td>1</td>\n",
       "      <td>1</td>\n",
       "      <td>-7.500928</td>\n",
       "      <td>-16.679482</td>\n",
       "      <td>8.828892</td>\n",
       "      <td>9.864468</td>\n",
       "    </tr>\n",
       "    <tr>\n",
       "      <td>2</td>\n",
       "      <td>2</td>\n",
       "      <td>5.155905</td>\n",
       "      <td>9.479978</td>\n",
       "      <td>-13.675668</td>\n",
       "      <td>16.748901</td>\n",
       "    </tr>\n",
       "    <tr>\n",
       "      <td>3</td>\n",
       "      <td>3</td>\n",
       "      <td>-4.965035</td>\n",
       "      <td>-9.268252</td>\n",
       "      <td>10.731794</td>\n",
       "      <td>8.831545</td>\n",
       "    </tr>\n",
       "    <tr>\n",
       "      <td>4</td>\n",
       "      <td>4</td>\n",
       "      <td>0.691929</td>\n",
       "      <td>-28.573982</td>\n",
       "      <td>7.394661</td>\n",
       "      <td>9.941408</td>\n",
       "    </tr>\n",
       "  </tbody>\n",
       "</table>\n",
       "</div>"
      ],
      "text/plain": [
       "   Customer     sms_1      sms_2      sms_3      sms_4\n",
       "0         0 -1.821934  30.279602  -1.559028  10.263097\n",
       "1         1 -7.500928 -16.679482   8.828892   9.864468\n",
       "2         2  5.155905   9.479978 -13.675668  16.748901\n",
       "3         3 -4.965035  -9.268252  10.731794   8.831545\n",
       "4         4  0.691929 -28.573982   7.394661   9.941408"
      ]
     },
     "execution_count": 2,
     "metadata": {
      "tags": []
     },
     "output_type": "execute_result"
    }
   ],
   "source": [
    "df = pd.read_csv('dataset.csv')\n",
    "df.head()"
   ]
  },
  {
   "cell_type": "markdown",
   "metadata": {
    "colab_type": "text",
    "id": "199MHTipMPit"
   },
   "source": [
    "### Visualize the average reward for each message"
   ]
  },
  {
   "cell_type": "code",
   "execution_count": 0,
   "metadata": {
    "colab": {},
    "colab_type": "code",
    "id": "qhqTDHvwMPiv",
    "outputId": "12336a8a-7960-4fc2-92ee-c9644f7d93d2"
   },
   "outputs": [
    {
     "data": {
      "text/plain": [
       "Text(0.5, 1.0, 'Distribution of Rewards by Message')"
      ]
     },
     "execution_count": 3,
     "metadata": {
      "tags": []
     },
     "output_type": "execute_result"
    },
    {
     "data": {
      "image/png": "[encoded data removed]",
      "text/plain": [
       "<Figure size 432x288 with 1 Axes>"
      ]
     },
     "metadata": {
      "needs_background": "light",
      "tags": []
     },
     "output_type": "display_data"
    }
   ],
   "source": [
    "sns.boxplot(x=\"variable\", y=\"value\", data=pd.melt(df[['sms_1','sms_2','sms_3','sms_4']]))\n",
    "plt.title(\"Distribution of Rewards by Message\")"
   ]
  },
  {
   "cell_type": "markdown",
   "metadata": {
    "colab_type": "text",
    "id": "xATAK3uQMPi1"
   },
   "source": [
    "### Initialize variables to implement UCB method"
   ]
  },
  {
   "cell_type": "code",
   "execution_count": 0,
   "metadata": {
    "colab": {},
    "colab_type": "code",
    "id": "0cT__R-TMPi2"
   },
   "outputs": [],
   "source": [
    "#Initialize Variables\n",
    "N = len(df.index)       # the time (or round) \n",
    "d = 4                   # number of possible messages\n",
    "Qt_a = 0\n",
    "Nt_a = np.zeros(d)      #number of times action a has been selected prior to T\n",
    "                        #If Nt(a) = 0, then a is considered to be a maximizing action.\n",
    "c = 1                   #a number greater than 0 that controls the degree of exploration\n",
    "\n",
    "sum_rewards = np.zeros(d) #cumulative sum of reward for a particular message\n",
    "\n",
    "#helper variables to perform analysis\n",
    "hist_t = [] #holds the natural log of each round\n",
    "hist_achieved_rewards = [] #holds the history of the UCB CHOSEN cumulative rewards\n",
    "hist_best_possible_rewards = [] #holds the history of OPTIMAL cumulative rewards\n",
    "hist_random_choice_rewards = [] #holds the history of RANDONMLY selected actions rewards"
   ]
  },
  {
   "cell_type": "markdown",
   "metadata": {
    "colab_type": "text",
    "id": "5tulpBL4MPi6"
   },
   "source": [
    "### Implement UCB method "
   ]
  },
  {
   "cell_type": "code",
   "execution_count": 0,
   "metadata": {
    "colab": {},
    "colab_type": "code",
    "id": "dZeT4EpMMPi7"
   },
   "outputs": [],
   "source": [
    "#loop through no of rounds #t = time\n",
    "for t in range(0,N):\n",
    "    UCB_Values = np.zeros(d) #array holding the ucb values. Pick the max  \n",
    "    action_selected = 0\n",
    "    for a in range(0, d):\n",
    "        if (Nt_a[a] > 0):\n",
    "            ln_t = math.log(t) #natural log of t\n",
    "            hist_t.append(ln_t) #to plot natural log of t\n",
    "\n",
    "            #calculate the UCB\n",
    "            Qt_a = sum_rewards[a]/Nt_a[a]\n",
    "            ucb_value = Qt_a + c*(ln_t/Nt_a[a]) \n",
    "            UCB_Values[a] = ucb_value\n",
    "\n",
    "        #if this equals zero, choose as the maximum. Cant divide by negative     \n",
    "        elif (Nt_a[a] == 0):\n",
    "            UCB_Values[a] = 1e500 #make large value\n",
    "        \n",
    "    #select the max UCB value\n",
    "    action_selected = np.argmax(UCB_Values)\n",
    "\n",
    "    #update Values as of round t\n",
    "    Nt_a[action_selected] += 1\n",
    "    reward = df.values[t, action_selected+1]\n",
    "    sum_rewards[action_selected] += reward"
   ]
  },
  {
   "cell_type": "markdown",
   "metadata": {
    "colab_type": "text",
    "id": "YFiHrl8wMPjA"
   },
   "source": [
    "### Check the reward by choosing a message after each round randomly and using UCB algorithm"
   ]
  },
  {
   "cell_type": "code",
   "execution_count": 0,
   "metadata": {
    "colab": {},
    "colab_type": "code",
    "id": "RDsoJwV1MPjB"
   },
   "outputs": [],
   "source": [
    "#these are to allow us to perform analysis of our algorithmm\n",
    "r_ = df.values[t,[1,2,3,4]]     #get all rewards for time t to a vector\n",
    "r_best = r_[np.argmax(r_)]      #select the best action\n",
    "    \n",
    "pick_random = random.randrange(d) #choose an action randomly\n",
    "r_random = r_[pick_random] #np.random.choice(r_) #select reward for random action\n",
    "\n",
    "if len(hist_achieved_rewards)>0:\n",
    "    hist_achieved_rewards.append(hist_achieved_rewards[-1]+reward)\n",
    "    hist_best_possible_rewards.append(hist_best_possible_rewards[-1]+r_best)\n",
    "    hist_random_choice_rewards.append(hist_random_choice_rewards[-1]+r_random)\n",
    "else:\n",
    "    hist_achieved_rewards.append(reward)\n",
    "    hist_best_possible_rewards.append(r_best)\n",
    "    hist_random_choice_rewards.append(r_random)"
   ]
  },
  {
   "cell_type": "code",
   "execution_count": 0,
   "metadata": {
    "colab": {},
    "colab_type": "code",
    "id": "iwGt0SvWMPjI",
    "outputId": "edcbda25-c000-469c-d666-e8ed65e95db7"
   },
   "outputs": [
    {
     "name": "stdout",
     "output_type": "stream",
     "text": [
      "Reward if choosen randonmly 1.9912285189524608\n",
      "Reward of UCB method 1.9912285189524608\n"
     ]
    }
   ],
   "source": [
    "print(\"Reward if choosen randonmly {0}\".format(hist_random_choice_rewards[-1]))\n",
    "print(\"Reward of UCB method {0}\".format(hist_achieved_rewards[-1]))"
   ]
  },
  {
   "cell_type": "markdown",
   "metadata": {
    "colab_type": "text",
    "id": "Xy5dD7W-MPjN"
   },
   "source": [
    "<b>Note</b>: `As the reward is chosen randomly, sometime it can give a higher value than UCB. In such case rerun the code. The aim is to show how to get constant safe reward using UCB.`"
   ]
  },
  {
   "cell_type": "markdown",
   "metadata": {
    "colab_type": "text",
    "id": "0ccSUnr4MPjO"
   },
   "source": [
    "Variable `Nt_a`, holds the number of times each action was selected.<br>\n",
    "\n",
    "From the boxplot visualization shown above you know that `sms_4` messages gives the highest reward.<br>\n",
    "\n",
    "Plot each action and the number of times each action was selected."
   ]
  },
  {
   "cell_type": "code",
   "execution_count": 0,
   "metadata": {
    "colab": {},
    "colab_type": "code",
    "id": "VZ2mRyxbMPjP",
    "outputId": "aa063006-6bd2-46f7-84fb-7d0422886bc7"
   },
   "outputs": [
    {
     "data": {
      "text/plain": [
       "Text(0.5, 1.0, 'Number of times each Message was Selected')"
      ]
     },
     "execution_count": 8,
     "metadata": {
      "tags": []
     },
     "output_type": "execute_result"
    },
    {
     "data": {
      "image/png": "[encoded data removed]",
      "text/plain": [
       "<Figure size 432x288 with 1 Axes>"
      ]
     },
     "metadata": {
      "needs_background": "light",
      "tags": []
     },
     "output_type": "display_data"
    }
   ],
   "source": [
    "plt.bar(['sms_1','sms_2','sms_3','sms_4'],Nt_a)\n",
    "plt.title(\"Number of times each Message was Selected\")"
   ]
  }
 ],
 "metadata": {
  "colab": {
   "collapsed_sections": [],
   "name": "LEP_4.ipynb",
   "provenance": []
  },
  "kernelspec": {
   "display_name": "Python 3 [3.10]",
   "language": "python",
   "name": "python3"
  },
  "language_info": {
   "codemirror_mode": {
    "name": "ipython",
    "version": 3
   },
   "file_extension": ".py",
   "mimetype": "text/x-python",
   "name": "python",
   "nbconvert_exporter": "python",
   "pygments_lexer": "ipython3",
   "version": "3.10.2"
  }
 },
 "nbformat": 4,
 "nbformat_minor": 1
}
